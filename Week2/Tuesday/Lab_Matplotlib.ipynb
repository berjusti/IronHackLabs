{
 "cells": [
  {
   "cell_type": "code",
   "execution_count": 1,
   "id": "db368386",
   "metadata": {},
   "outputs": [
    {
     "name": "stderr",
     "output_type": "stream",
     "text": [
      "UsageError: unrecognized arguments: # it makes them show automatically\n"
     ]
    }
   ],
   "source": [
    "import numpy as np\n",
    "import pandas as pd\n",
    "import matplotlib.pyplot as plt\n",
    "%matplotlib inline # it makes them show automatically \n",
    "import seaborn as sns\n",
    "import statsmodels.api as sm\n",
    "from scipy.stats import boxcox\n",
    "pd.options.display.max_rows = 100\n",
    "## Install xlrd package to load Excel files\n",
    "#!conda install openpyxl\n",
    "#!conda install xlrd"
   ]
  },
  {
   "cell_type": "markdown",
   "id": "984ad4fa",
   "metadata": {},
   "source": [
    "As a reminder the objective of this study is to predict the `total claim amount` of a customer and study/investigate the impact of the factors (input features) on the target variable(`total claim amount`). That means in your exploratory data analysis, you have to look for patterns in this data that shows interesting relationships among the input features as well as with relation to the target feature.\n",
    "- Get the numeric data into dataframe called `numerical` and categorical columns in a dataframe called `categoricals`.\n",
    "(You can use np.number and np.object to select the numerical data types and categorical data types respectively)\n",
    "- Now we will try to check the normality of the numerical variables visually\n",
    "  - Use seaborn library to construct distribution plots for the numerical#  variables\n",
    "  - Use Matplotlib to construct histograms.\n",
    " - Do the distributions for different numerical variables look like a normal distribution? \n",
    "- For the numerical variables, check for correlation between the input features. Note: this does not include the target feature.\n",
    "- Plot the Correlation Heatmap.\n",
    "- (Optional): Drop one of the two features that show a high correlation between them (greater than 0.9). If there is no pair of features that have a high correlation, then do not drop any features.\n"
   ]
  },
  {
   "cell_type": "code",
   "execution_count": null,
   "id": "0d7fbab8",
   "metadata": {},
   "outputs": [],
   "source": [
    "Data_Marketing_Customer_Analysis_Round3 = pd.read_csv('Data_Marketing_Customer_Analysis_Round3.csv')"
   ]
  },
  {
   "cell_type": "code",
   "execution_count": null,
   "id": "d8123eb5",
   "metadata": {},
   "outputs": [],
   "source": [
    "Data_Marketing_Customer_Analysis_Round3"
   ]
  },
  {
   "cell_type": "markdown",
   "id": "524dddcd",
   "metadata": {},
   "source": [
    "- Get the numeric data into dataframe called `numerical` and categorical columns in a dataframe called `categoricals`."
   ]
  },
  {
   "cell_type": "code",
   "execution_count": null,
   "id": "26bbb3ef",
   "metadata": {},
   "outputs": [],
   "source": [
    "\n",
    "numerical = Data_Marketing_Customer_Analysis_Round3.select_dtypes(include = np.number)\n",
    "numerical.info()\n"
   ]
  },
  {
   "cell_type": "code",
   "execution_count": null,
   "id": "c294c2f8",
   "metadata": {},
   "outputs": [],
   "source": [
    "categoricals = Data_Marketing_Customer_Analysis_Round3.select_dtypes(include = np.object)\n",
    "categoricals.info()"
   ]
  },
  {
   "cell_type": "markdown",
   "id": "a57d8de6",
   "metadata": {},
   "source": [
    "- Now we will try to check the normality of the numerical variables visually\n",
    "  - Use seaborn library to construct distribution plots for the numerical#  variables\n",
    "  - Use Matplotlib to construct histograms.\n",
    " - Do the distributions for different numerical variables look like a normal distribution? \n",
    "- For the numerical variables, check for correlation between the input features. Note: this does not include the target feature."
   ]
  },
  {
   "cell_type": "code",
   "execution_count": null,
   "id": "c2cadd68",
   "metadata": {},
   "outputs": [],
   "source": [
    "#using histograms for all the numerical data\n",
    "numerical.hist(figsize=(10,10))"
   ]
  },
  {
   "cell_type": "code",
   "execution_count": null,
   "id": "d8ad6631",
   "metadata": {},
   "outputs": [],
   "source": [
    "#Checking the distribution\n",
    "sns.distplot(numerical.income)"
   ]
  },
  {
   "cell_type": "code",
   "execution_count": null,
   "id": "591d05ee",
   "metadata": {},
   "outputs": [],
   "source": [
    "corr_matrix = numerical.corr() \n",
    "corr_matrix\n",
    "\n",
    "# corr_matrix.to_csv('/Users/justynakurach/Documents/GitHub/IronHackLabs/Week3/correlation_matrix.csv')"
   ]
  },
  {
   "cell_type": "markdown",
   "id": "0e5f5da0",
   "metadata": {},
   "source": [
    "- Show a plot of the total number of responses.\n",
    "- Show a plot of the response by the sales channel.\n",
    "- Show a plot of the response by the total claim amount.\n",
    "- Show a plot of the response by income.\n",
    "- (Optional) plot any interesting findings/insights(minimum three) that describe some interesting facts about your data set and its input variables as well as relationships with the target feature.\n",
    "- Clean your notebook and make it readable and presentable with a good documentation that summarizes the Data Cleaning, Exploration(including plots) Steps that you have performed."
   ]
  },
  {
   "cell_type": "code",
   "execution_count": null,
   "id": "54cb4f7e",
   "metadata": {},
   "outputs": [],
   "source": [
    "income = Data_Marketing_Customer_Analysis_Round3['income'].value_counts()\n"
   ]
  },
  {
   "cell_type": "code",
   "execution_count": null,
   "id": "dc4ba670",
   "metadata": {
    "scrolled": true
   },
   "outputs": [],
   "source": [
    "sns.set_palette(\"husl\",1)\n",
    "sns.countplot(x='response', data=Data_Marketing_Customer_Analysis_Round3 )"
   ]
  },
  {
   "cell_type": "code",
   "execution_count": null,
   "id": "acf65b48",
   "metadata": {},
   "outputs": [],
   "source": [
    "sns.stripplot(x='response', y= 'total_claim_amount', data=Data_Marketing_Customer_Analysis_Round3, jitter= True)"
   ]
  },
  {
   "cell_type": "code",
   "execution_count": null,
   "id": "9d4ee9af",
   "metadata": {},
   "outputs": [],
   "source": [
    "sns.set_palette(\"husl\",1)\n",
    "sns.catplot(data=Data_Marketing_Customer_Analysis_Round3, kind=\"violin\", x=\"sales_channel\", y=\"total_claim_amount\", hue=\"response\", split=True)\n"
   ]
  },
  {
   "cell_type": "code",
   "execution_count": null,
   "id": "ac34dc4a",
   "metadata": {},
   "outputs": [],
   "source": [
    "sns.histplot(binwidth=200, x=\"total_claim_amount\", hue=\"sales_channel\", data=Data_Marketing_Customer_Analysis_Round3, stat=\"count\", multiple=\"stack\")\n"
   ]
  },
  {
   "cell_type": "code",
   "execution_count": null,
   "id": "ada221c3",
   "metadata": {
    "scrolled": true
   },
   "outputs": [],
   "source": [
    "\n",
    "sns.set_palette(\"husl\",1)\n",
    "sns.catplot(data=Data_Marketing_Customer_Analysis_Round3, kind=\"violin\", x=\"policy_type\", y=\"total_claim_amount\", hue=\"response\", split=True)\n"
   ]
  },
  {
   "cell_type": "code",
   "execution_count": null,
   "id": "a17216a0",
   "metadata": {},
   "outputs": [],
   "source": []
  },
  {
   "cell_type": "code",
   "execution_count": null,
   "id": "073b054e",
   "metadata": {},
   "outputs": [],
   "source": [
    "sns.jointplot(data=Data_Marketing_Customer_Analysis_Round3, x=\"total_claim_amount\", y=\"income\", hue=\"response\")"
   ]
  },
  {
   "cell_type": "code",
   "execution_count": null,
   "id": "370dd0e4",
   "metadata": {},
   "outputs": [],
   "source": [
    "sns.catplot(data=Data_Marketing_Customer_Analysis_Round3, kind=\"bar\", x=\"response\", y=\"income\")\n"
   ]
  },
  {
   "cell_type": "markdown",
   "id": "0b5c309f",
   "metadata": {},
   "source": [
    "sns.replot - focuse on the no on yes as hue. total claim amout + vehicle type \n",
    "\n",
    "cut, cuecut"
   ]
  }
 ],
 "metadata": {
  "kernelspec": {
   "display_name": "Python 3 (ipykernel)",
   "language": "python",
   "name": "python3"
  },
  "language_info": {
   "codemirror_mode": {
    "name": "ipython",
    "version": 3
   },
   "file_extension": ".py",
   "mimetype": "text/x-python",
   "name": "python",
   "nbconvert_exporter": "python",
   "pygments_lexer": "ipython3",
   "version": "3.9.13"
  }
 },
 "nbformat": 4,
 "nbformat_minor": 5
}
