{
 "cells": [
  {
   "cell_type": "code",
   "execution_count": 3,
   "id": "0c46b5bb",
   "metadata": {},
   "outputs": [],
   "source": [
    "import numpy as np\n",
    "import pandas as pd\n",
    "import matplotlib.pyplot as plt\n",
    "%matplotlib inline\n",
    "import seaborn as sns\n",
    "import statsmodels.api as sm\n",
    "from scipy.stats import boxcox\n",
    "pd.options.display.max_rows = 100\n",
    "## Install xlrd package to load Excel files\n",
    "#!conda install openpyxl\n",
    "#!conda install xlrd"
   ]
  },
  {
   "cell_type": "code",
   "execution_count": 10,
   "id": "002fdd31",
   "metadata": {},
   "outputs": [
    {
     "name": "stdout",
     "output_type": "stream",
     "text": [
      "     Customer          ST GENDER             Education  \\\n",
      "0     RB50392  Washington    NaN                Master   \n",
      "1     QZ44356     Arizona      F              Bachelor   \n",
      "2     AI49188      Nevada      F              Bachelor   \n",
      "3     WW63253  California      M              Bachelor   \n",
      "4     GA49547  Washington      M  High School or Below   \n",
      "...       ...         ...    ...                   ...   \n",
      "7065  LA72316         NaN    NaN              Bachelor   \n",
      "7066  PK87824         NaN    NaN               College   \n",
      "7067  TD14365         NaN    NaN              Bachelor   \n",
      "7068  UP19263         NaN    NaN               College   \n",
      "7069  Y167826         NaN    NaN               College   \n",
      "\n",
      "     Customer Lifetime Value   Income  Monthly Premium Auto  \\\n",
      "0                        NaN      0.0                1000.0   \n",
      "1                 697953.59%      0.0                  94.0   \n",
      "2                1288743.17%  48767.0                 108.0   \n",
      "3                 764586.18%      0.0                 106.0   \n",
      "4                 536307.65%  36357.0                  68.0   \n",
      "...                      ...      ...                   ...   \n",
      "7065             23405.98798  71941.0                  73.0   \n",
      "7066             3096.511217  21604.0                  79.0   \n",
      "7067             8163.890428      0.0                  85.0   \n",
      "7068             7524.442436  21941.0                  96.0   \n",
      "7069             2611.836866      0.0                  77.0   \n",
      "\n",
      "     Number of Open Complaints     Policy Type  Vehicle Class  \\\n",
      "0                       1/0/00   Personal Auto  Four-Door Car   \n",
      "1                       1/0/00   Personal Auto  Four-Door Car   \n",
      "2                       1/0/00   Personal Auto   Two-Door Car   \n",
      "3                       1/0/00  Corporate Auto            SUV   \n",
      "4                       1/0/00   Personal Auto  Four-Door Car   \n",
      "...                        ...             ...            ...   \n",
      "7065                         0   Personal Auto  Four-Door Car   \n",
      "7066                         0  Corporate Auto  Four-Door Car   \n",
      "7067                         3  Corporate Auto  Four-Door Car   \n",
      "7068                         0   Personal Auto  Four-Door Car   \n",
      "7069                         0  Corporate Auto   Two-Door Car   \n",
      "\n",
      "      Total Claim Amount       State Gender  \n",
      "0               2.704934         NaN    NaN  \n",
      "1            1131.464935         NaN    NaN  \n",
      "2             566.472247         NaN    NaN  \n",
      "3             529.881344         NaN    NaN  \n",
      "4              17.269323         NaN    NaN  \n",
      "...                  ...         ...    ...  \n",
      "7065          198.234764  California      M  \n",
      "7066          379.200000  California      F  \n",
      "7067          790.784983  California      M  \n",
      "7068          691.200000  California      M  \n",
      "7069          369.600000  California      M  \n",
      "\n",
      "[12074 rows x 13 columns]\n"
     ]
    }
   ],
   "source": [
    "df1 = pd.read_csv('file1.csv', engine='python')\n",
    "df2 = pd.read_csv('file2.csv', engine='python')\n",
    "df3 = pd.read_csv('file3.csv', engine='python')\n",
    "\n",
    "# concatenate dataframes\n",
    "customer_df = pd.concat([df1, df2, df3])\n",
    "\n",
    "# display dataframe\n",
    "print(customer_df)"
   ]
  },
  {
   "cell_type": "code",
   "execution_count": 11,
   "id": "8b8d3aa3",
   "metadata": {},
   "outputs": [],
   "source": [
    "def load_original_data():\n",
    "    file1 = pd.read_csv('1Monday/file1.csv')\n",
    "    file2 = pd.read_csv('1Monday/file2.txt', sep = '\\t')\n",
    "    file3 = pd.read_excel('1Monday/file3.xlsx')\n",
    "    return pd.concat([file1,file2,file3], axis=0)"
   ]
  },
  {
   "cell_type": "code",
   "execution_count": null,
   "id": "0975f4fa",
   "metadata": {},
   "outputs": [],
   "source": [
    "customer2_df = "
   ]
  }
 ],
 "metadata": {
  "kernelspec": {
   "display_name": "Python 3 (ipykernel)",
   "language": "python",
   "name": "python3"
  },
  "language_info": {
   "codemirror_mode": {
    "name": "ipython",
    "version": 3
   },
   "file_extension": ".py",
   "mimetype": "text/x-python",
   "name": "python",
   "nbconvert_exporter": "python",
   "pygments_lexer": "ipython3",
   "version": "3.9.13"
  }
 },
 "nbformat": 4,
 "nbformat_minor": 5
}
