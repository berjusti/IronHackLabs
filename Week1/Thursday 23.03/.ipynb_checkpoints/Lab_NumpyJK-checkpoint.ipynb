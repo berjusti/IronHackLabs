{
 "cells": [
  {
   "cell_type": "markdown",
   "id": "292c0a90",
   "metadata": {},
   "source": [
    "\n",
    "\n",
    "# numpy exercises\n",
    "\n",
    "This is a collection of exercises that have been collected in the numpy mailing list, on stack overflow\n",
    "and in the numpy documentation. The goal of this collection is to offer a quick reference for both old\n",
    "and new users but also to provide a set of exercises for those who teach.\n",
    "\n",
    "\n",
    "If you find an error or think you've a better way to solve some of them, feel\n",
    "free to open an issue at <https://github.com/rougier/numpy-100>.\n",
    "File automatically generated. See the documentation to update questions/answers/hints programmatically.\n",
    "\n",
    "#### 1. Import the numpy package under the name `np` (★☆☆)\n",
    "`hint: import … as`\n",
    "i\n",
    "#### 2. Create a null vector of size 10 (★☆☆)\n",
    "`hint: np.zeros`\n",
    "\n",
    "#### 3. Create a null vector of size 10 but the fifth value which is 1 (★☆☆)\n",
    "`hint: array[4]`\n",
    "\n",
    "#### 4. Create a vector with values ranging from 10 to 49 (★☆☆)\n",
    "`hint: arange`\n",
    "\n",
    "#### 5. Create a 3x3 matrix with values ranging from 0 to 8 (★☆☆)\n",
    "`hint: reshape`\n",
    "\n",
    "#### 6. Find indices of non-zero elements from [1,2,0,0,4,0] (★☆☆)\n",
    "`hint: np.nonzero`\n",
    "\n",
    "#### 7. Create a 3x3 identity matrix (★☆☆)\n",
    "`hint: np.eye`\n",
    "\n",
    "#### 8. Create a 3x3x3 array with random values (★☆☆)\n",
    "`hint: np.random.random`\n",
    "\n",
    "#### 9. Create a 10x10 array with random values and find the minimum and maximum values (★☆☆)\n",
    "`hint: min, max`\n",
    "\n",
    "#### 10. Create a random vector of size 30 and find the mean value (★☆☆)\n",
    "`hint: mean`\n",
    "\n",
    "#### 11. Create a 5x5 matrix with values 1,2,3,4 just below the diagonal (★☆☆)\n",
    "`hint: np.diag`\n",
    "\n",
    "#### 12. Normalize a 5x5 random matrix (★☆☆)\n",
    "`hint: (x -mean)/std`\n",
    "\n",
    "#### 13. How to find common values between two arrays? (★☆☆)\n",
    "`hint: np.intersect1d`\n",
    "\n",
    "#### 14. Create a random vector of size 10 and sort it (★★☆)\n",
    "`hint: sort`\n",
    "\n",
    "#### 15. Create random vector of size 10 and replace the maximum value by 0 (★★☆)\n",
    "`hint: argmax`\n",
    "\n",
    "#### 16. Subtract the mean of each row of a matrix (★★☆)\n",
    "`hint: mean(axis=,keepdims=)`\n",
    "\n",
    "#### 17. How to get the n largest values of an array (★★★)\n",
    "`Z = np.arange(10000)\n",
    "np.random.shuffle(Z)\n",
    "n = 5\n",
    "hint: np.argsort | np.argpartition`\n",
    "\n",
    "#### 18. Create a random 5*3 matrix and replace items that are larger than 4 by their squares ( Example:  6 --> 36) \n",
    "`hint: np.where`\n"
   ]
  },
  {
   "cell_type": "code",
   "execution_count": 6,
   "id": "a1865e3c",
   "metadata": {},
   "outputs": [],
   "source": [
    "#### 1. Import the numpy package under the name `np`\n",
    "import numpy as np"
   ]
  },
  {
   "cell_type": "code",
   "execution_count": 11,
   "id": "176a107d",
   "metadata": {},
   "outputs": [],
   "source": [
    "#### 2. Create a null vector of size 10 \n",
    "a = np.zeros((10))\n"
   ]
  },
  {
   "cell_type": "code",
   "execution_count": 12,
   "id": "2092a1eb",
   "metadata": {},
   "outputs": [
    {
     "data": {
      "text/plain": [
       "array([0., 0., 0., 0., 0., 0., 0., 0., 0., 0.])"
      ]
     },
     "execution_count": 12,
     "metadata": {},
     "output_type": "execute_result"
    }
   ],
   "source": [
    "a"
   ]
  },
  {
   "cell_type": "code",
   "execution_count": 17,
   "id": "200313fa",
   "metadata": {},
   "outputs": [],
   "source": [
    "#### 3. Create a null vector of size 10 but the fifth value which is 1\n",
    "b = np.zeros((1,10))\n",
    "b[0,4] = 1"
   ]
  },
  {
   "cell_type": "code",
   "execution_count": 18,
   "id": "10ee250d",
   "metadata": {},
   "outputs": [
    {
     "data": {
      "text/plain": [
       "array([[0., 0., 0., 0., 1., 0., 0., 0., 0., 0.]])"
      ]
     },
     "execution_count": 18,
     "metadata": {},
     "output_type": "execute_result"
    }
   ],
   "source": [
    "b"
   ]
  },
  {
   "cell_type": "code",
   "execution_count": 43,
   "id": "d0697ce4",
   "metadata": {},
   "outputs": [],
   "source": [
    "#### 4. Create a vector with values ranging from 10 to 49\n",
    "\n",
    "c = np.random.randint(10,50,39) "
   ]
  },
  {
   "cell_type": "code",
   "execution_count": 45,
   "id": "615871c7",
   "metadata": {},
   "outputs": [
    {
     "name": "stdout",
     "output_type": "stream",
     "text": [
      "[10 35 26 39 24 26 35 27 35 28 27 27 19 21 43 36 49 26 32 23 22 11 18 38\n",
      " 32 15 46 29 44 37 33 33 15 22 39 31 12 45 13]\n"
     ]
    },
    {
     "data": {
      "text/plain": [
       "numpy.ndarray"
      ]
     },
     "execution_count": 45,
     "metadata": {},
     "output_type": "execute_result"
    }
   ],
   "source": [
    "print(c)\n",
    "type(c)"
   ]
  },
  {
   "cell_type": "code",
   "execution_count": 23,
   "id": "11e4a6a4",
   "metadata": {},
   "outputs": [],
   "source": [
    "#### 5. Create a 3x3 matrix with values ranging from 0 to 8\n",
    "d = np.random.randint(0, 8, (3, 3))"
   ]
  },
  {
   "cell_type": "code",
   "execution_count": 24,
   "id": "ad6ef5a8",
   "metadata": {},
   "outputs": [
    {
     "data": {
      "text/plain": [
       "array([[4, 1, 6],\n",
       "       [6, 6, 0],\n",
       "       [5, 6, 1]])"
      ]
     },
     "execution_count": 24,
     "metadata": {},
     "output_type": "execute_result"
    }
   ],
   "source": [
    "d"
   ]
  },
  {
   "cell_type": "code",
   "execution_count": 25,
   "id": "9e183a85",
   "metadata": {},
   "outputs": [
    {
     "data": {
      "text/plain": [
       "(array([0, 1, 4]),)"
      ]
     },
     "execution_count": 25,
     "metadata": {},
     "output_type": "execute_result"
    }
   ],
   "source": [
    "#### 6. Find indices of non-zero elements from [1,2,0,0,4,0]\n",
    "### method from Boolean indexing in Numpy codealong is not working here that's why nonzero method used instead\n",
    "e =np.array([1,2,0,0,4,0])\n",
    "np.nonzero(e)"
   ]
  },
  {
   "cell_type": "code",
   "execution_count": 27,
   "id": "a1b0e282",
   "metadata": {},
   "outputs": [],
   "source": [
    "#### 7. Create a 3x3 identity matrix\n",
    "f = np.eye(3)"
   ]
  },
  {
   "cell_type": "code",
   "execution_count": 28,
   "id": "a67a1ce8",
   "metadata": {},
   "outputs": [
    {
     "data": {
      "text/plain": [
       "array([[1., 0., 0.],\n",
       "       [0., 1., 0.],\n",
       "       [0., 0., 1.]])"
      ]
     },
     "execution_count": 28,
     "metadata": {},
     "output_type": "execute_result"
    }
   ],
   "source": [
    "f"
   ]
  },
  {
   "cell_type": "code",
   "execution_count": 29,
   "id": "15eef809",
   "metadata": {},
   "outputs": [
    {
     "name": "stdout",
     "output_type": "stream",
     "text": [
      "[[[0.3066043  0.19425341 0.13839801]\n",
      "  [0.05395813 0.56391397 0.60056654]\n",
      "  [0.0455453  0.05264801 0.14776317]]\n",
      "\n",
      " [[0.27444952 0.53054132 0.68004266]\n",
      "  [0.38388032 0.08180138 0.80498941]\n",
      "  [0.46519624 0.07156367 0.36046683]]\n",
      "\n",
      " [[0.012314   0.77476425 0.11632289]\n",
      "  [0.90764733 0.19319361 0.05058242]\n",
      "  [0.72133033 0.95392441 0.81808754]]]\n"
     ]
    }
   ],
   "source": [
    "#### 8. Create a 3x3x3 array with random values \n",
    "g = np.random.random((3,3,3))\n",
    "print(g)"
   ]
  },
  {
   "cell_type": "code",
   "execution_count": 30,
   "id": "06358386",
   "metadata": {},
   "outputs": [
    {
     "name": "stdout",
     "output_type": "stream",
     "text": [
      "[[0.74312736 0.22642433 0.64253383 0.88235546 0.74069877 0.72126355\n",
      "  0.29534784 0.52551637 0.17376453 0.81195921]\n",
      " [0.8494054  0.25652014 0.23723445 0.45838538 0.22892017 0.20201054\n",
      "  0.98268038 0.98072856 0.73480386 0.40930499]\n",
      " [0.61881122 0.07922681 0.3992603  0.60542101 0.45048703 0.49126614\n",
      "  0.36450761 0.28902666 0.99520902 0.81677776]\n",
      " [0.26502976 0.35804741 0.66968568 0.92568623 0.01828065 0.83617359\n",
      "  0.20375291 0.55750424 0.88577519 0.18547542]\n",
      " [0.35751405 0.54127987 0.23651822 0.21049158 0.52448184 0.6481872\n",
      "  0.24837678 0.02222478 0.1201708  0.42562707]\n",
      " [0.76399581 0.70977053 0.19941661 0.37676384 0.80578279 0.26005507\n",
      "  0.10166105 0.92256783 0.03549357 0.54065812]\n",
      " [0.01723636 0.53233838 0.84360437 0.10915717 0.77826184 0.35268578\n",
      "  0.6717339  0.15330277 0.06796606 0.76147119]\n",
      " [0.0727039  0.97703318 0.67623099 0.70213564 0.96799672 0.503032\n",
      "  0.19283654 0.02437558 0.01272804 0.00933905]\n",
      " [0.23777199 0.32341238 0.35805865 0.63503597 0.66816687 0.23547847\n",
      "  0.94025659 0.16848272 0.14534039 0.15381983]\n",
      " [0.61697426 0.95209496 0.13903625 0.79014033 0.42540404 0.37687414\n",
      "  0.54986131 0.9930642  0.01017786 0.62135771]]\n"
     ]
    }
   ],
   "source": [
    "#### 9. Create a 10x10 array with random values and find the minimum and maximum values\n",
    "np.random.seed(1006)\n",
    "h = np.random.random((10,10))\n",
    "print(h)"
   ]
  },
  {
   "cell_type": "code",
   "execution_count": 31,
   "id": "e2fd0fa8",
   "metadata": {},
   "outputs": [
    {
     "data": {
      "text/plain": [
       "0.009339047558688862"
      ]
     },
     "execution_count": 31,
     "metadata": {},
     "output_type": "execute_result"
    }
   ],
   "source": [
    "h.min()"
   ]
  },
  {
   "cell_type": "code",
   "execution_count": 32,
   "id": "601bbc4e",
   "metadata": {},
   "outputs": [
    {
     "data": {
      "text/plain": [
       "0.9952090195788573"
      ]
     },
     "execution_count": 32,
     "metadata": {},
     "output_type": "execute_result"
    }
   ],
   "source": [
    "h.max()"
   ]
  },
  {
   "cell_type": "code",
   "execution_count": 46,
   "id": "19f3fde1",
   "metadata": {},
   "outputs": [],
   "source": [
    "#### 10. Create a random vector of size 30 and find the mean value\n",
    "i = np.random.rand(30)"
   ]
  },
  {
   "cell_type": "code",
   "execution_count": 47,
   "id": "a54c648e",
   "metadata": {},
   "outputs": [
    {
     "data": {
      "text/plain": [
       "array([0.12983608, 0.40752709, 0.20367982, 0.7011896 , 0.26217776,\n",
       "       0.63624299, 0.42128296, 0.18892164, 0.76394463, 0.31788866,\n",
       "       0.11193429, 0.01490387, 0.95458222, 0.37145424, 0.80370489,\n",
       "       0.35805949, 0.25777369, 0.35433876, 0.41312747, 0.60933192,\n",
       "       0.81029524, 0.30609995, 0.90219201, 0.37346439, 0.97113222,\n",
       "       0.80820022, 0.53770799, 0.98421162, 0.42214124, 0.64504466])"
      ]
     },
     "execution_count": 47,
     "metadata": {},
     "output_type": "execute_result"
    }
   ],
   "source": [
    "i"
   ]
  },
  {
   "cell_type": "code",
   "execution_count": 50,
   "id": "1ebdc95e",
   "metadata": {},
   "outputs": [
    {
     "data": {
      "text/plain": [
       "0.5014130532853255"
      ]
     },
     "execution_count": 50,
     "metadata": {},
     "output_type": "execute_result"
    }
   ],
   "source": [
    "np.mean(i)"
   ]
  },
  {
   "cell_type": "code",
   "execution_count": 60,
   "id": "3bdafdc3",
   "metadata": {},
   "outputs": [
    {
     "name": "stdout",
     "output_type": "stream",
     "text": [
      "[[0 0 0 0 0]\n",
      " [1 0 0 0 0]\n",
      " [1 2 0 0 0]\n",
      " [1 2 3 0 0]\n",
      " [1 2 3 4 0]]\n"
     ]
    }
   ],
   "source": [
    "#### 11. Create a 5x5 matrix with values 1,2,3,4 just below the diagonal \n",
    "# create a 5x5 zero matrix\n",
    "import numpy as np\n",
    "\n",
    "# create a 5x5 zero matrix\n",
    "matrix = np.zeros((5, 5), dtype=int)\n",
    "\n",
    "# fill values just below the diagonal\n",
    "for x in range(1, 5):\n",
    "    for z in range(x):\n",
    "        matrix[x, z] = z+1\n",
    "\n",
    "print(matrix)\n",
    "\n",
    "\n",
    "\n"
   ]
  },
  {
   "cell_type": "code",
   "execution_count": null,
   "id": "08463d63",
   "metadata": {},
   "outputs": [],
   "source": [
    "#### 12. Normalize a 5x5 random matrix"
   ]
  },
  {
   "cell_type": "code",
   "execution_count": null,
   "id": "e33b26b1",
   "metadata": {},
   "outputs": [],
   "source": [
    "#### 13. How to find common values between two arrays? "
   ]
  },
  {
   "cell_type": "code",
   "execution_count": null,
   "id": "4d161057",
   "metadata": {},
   "outputs": [],
   "source": [
    "#### 14. Create a random vector of size 10 and sort it "
   ]
  },
  {
   "cell_type": "code",
   "execution_count": null,
   "id": "bc46da42",
   "metadata": {},
   "outputs": [],
   "source": [
    "#### 15. Create random vector of size 10 and replace the maximum value by 0"
   ]
  },
  {
   "cell_type": "code",
   "execution_count": null,
   "id": "98a4989f",
   "metadata": {},
   "outputs": [],
   "source": [
    "#### 16. Subtract the mean of each row of a matrix"
   ]
  },
  {
   "cell_type": "code",
   "execution_count": null,
   "id": "c60d1c45",
   "metadata": {},
   "outputs": [],
   "source": [
    "#### 17. How to get the n largest values of an array"
   ]
  },
  {
   "cell_type": "code",
   "execution_count": null,
   "id": "aff19e95",
   "metadata": {},
   "outputs": [],
   "source": [
    "#### 18. Create a random 5*3 matrix and replace items that are larger than 4 by their squares ( Example:  6 --> 36) "
   ]
  }
 ],
 "metadata": {
  "kernelspec": {
   "display_name": "Python 3 (ipykernel)",
   "language": "python",
   "name": "python3"
  },
  "language_info": {
   "codemirror_mode": {
    "name": "ipython",
    "version": 3
   },
   "file_extension": ".py",
   "mimetype": "text/x-python",
   "name": "python",
   "nbconvert_exporter": "python",
   "pygments_lexer": "ipython3",
   "version": "3.9.13"
  }
 },
 "nbformat": 4,
 "nbformat_minor": 5
}
