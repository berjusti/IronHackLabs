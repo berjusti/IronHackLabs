{
 "cells": [
  {
   "cell_type": "code",
   "execution_count": null,
   "id": "cb91ab0f",
   "metadata": {},
   "outputs": [],
   "source": [
    "USE sakila;\n",
    "## 1.  Review the tables in the database.\n",
    "## There is 15 tables in the database. Various ID's link the Tables to each other. \n",
    "## 2 Explore tables by selecting all columns from each table or using the in built review features for your client.\n",
    "SELECT * FROM actor;\n",
    "SELECT * FROM address;\n",
    "SELECT * FROM category;\n",
    "SELECT * FROM city;\n",
    "SELECT * FROM country;\n",
    "SELECT * FROM customer;\n",
    "SELECT * FROM film;\n",
    "SELECT * FROM film_actor;\n",
    "SELECT * FROM film_category;\n",
    "SELECT * FROM film_text;\n",
    "SELECT * FROM inventory;\n",
    "SELECT * FROM language;\n",
    "SELECT * FROM payment;\n",
    "SELECT * FROM rental;\n",
    "SELECT * FROM staff;\n",
    "SELECT * FROM store;\n",
    "\n",
    "##3 Select one column from a table. Get film titles.\n",
    "SELECT title FROM film;\n",
    "\n",
    "## 4 Select one column from a table and alias it. Get unique list of film languages under the alias language. \n",
    "\n",
    "SELECT DISTINCT(name) AS language_column FROM `language`;\n",
    "\n",
    "## Note that we are not asking you to obtain the language per each film, but this is a good time to \n",
    "## think about how you might get that information in the future.\n",
    "\n",
    "## 5.1 Find out how many stores does the company have?\n",
    "SELECT COUNT(store_id) FROM store;\n",
    "\n",
    "## 5.2 Find out how many employees staff does the company have?\n",
    "SELECT COUNT(staff_id) FROM staff;\n",
    "\n",
    "## 5.3 Return a list of employee first names only?\n",
    "SELECT first_name FROM staff;\n"
   ]
  }
 ],
 "metadata": {
  "kernelspec": {
   "display_name": "Python 3 (ipykernel)",
   "language": "python",
   "name": "python3"
  },
  "language_info": {
   "codemirror_mode": {
    "name": "ipython",
    "version": 3
   },
   "file_extension": ".py",
   "mimetype": "text/x-python",
   "name": "python",
   "nbconvert_exporter": "python",
   "pygments_lexer": "ipython3",
   "version": "3.9.13"
  }
 },
 "nbformat": 4,
 "nbformat_minor": 5
}
