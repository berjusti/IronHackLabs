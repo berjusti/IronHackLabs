{
 "cells": [
  {
   "cell_type": "code",
   "execution_count": 52,
   "id": "0e5a2b62",
   "metadata": {
    "scrolled": true
   },
   "outputs": [],
   "source": [
    "import numpy as np\n",
    "import pandas as pd\n",
    "\n",
    "import matplotlib.pyplot as plt\n",
    "%matplotlib inline  \n",
    "import seaborn as sns\n",
    "import statsmodels.api as sm\n",
    "from scipy.stats import boxcox\n",
    "pd.set_option('display.max_rows', 1000)\n",
    "pd.set_option('display.width', 1000)\n",
    "pd.set_option('display.max_colwidth', 1000)\n",
    "\n",
    "from fuzzywuzzy import fuzz\n",
    "\n",
    "\n"
   ]
  },
  {
   "cell_type": "code",
   "execution_count": 53,
   "id": "604d18ed",
   "metadata": {},
   "outputs": [],
   "source": [
    "# Load the datasets and investigate \n",
    "df1 = pd.read_csv('/Users/justynakurach/Documents/GitHub/IronHackLabs/Week 5/Movie Bechdel Test Scores/Bechdel.csv')\n",
    "df2 = pd.read_csv('/Users/justynakurach/Documents/GitHub/IronHackLabs/Week 5/FINAL DATASETS SELECTION/100k_Movies_dataset.csv')"
   ]
  },
  {
   "cell_type": "code",
   "execution_count": 54,
   "id": "1bd28b56",
   "metadata": {},
   "outputs": [],
   "source": [
    "df1 = df1.drop('Unnamed: 0', axis=1)"
   ]
  },
  {
   "cell_type": "code",
   "execution_count": 58,
   "id": "c75ca247",
   "metadata": {
    "scrolled": true
   },
   "outputs": [
    {
     "name": "stdout",
     "output_type": "stream",
     "text": [
      "<class 'pandas.core.frame.DataFrame'>\n",
      "RangeIndex: 9373 entries, 0 to 9372\n",
      "Data columns (total 5 columns):\n",
      " #   Column  Non-Null Count  Dtype  \n",
      "---  ------  --------------  -----  \n",
      " 0   title   9373 non-null   object \n",
      " 1   imdbid  9373 non-null   float64\n",
      " 2   id      9373 non-null   int64  \n",
      " 3   rating  9373 non-null   int64  \n",
      " 4   year    9373 non-null   int64  \n",
      "dtypes: float64(1), int64(3), object(1)\n",
      "memory usage: 366.3+ KB\n"
     ]
    }
   ],
   "source": [
    "df1.info()"
   ]
  },
  {
   "cell_type": "code",
   "execution_count": 60,
   "id": "450e278a",
   "metadata": {},
   "outputs": [],
   "source": [
    "#clean id in df2 \n",
    "df2 = df2.rename(columns={'id': 'imdbid'})\n",
    "df2['imdbid'] = df2['imdbid'].str[2:]\n",
    "df2['imdbid'] = df2['imdbid'].astype('float64')\n"
   ]
  },
  {
   "cell_type": "code",
   "execution_count": 66,
   "id": "e71a4178",
   "metadata": {},
   "outputs": [
    {
     "name": "stdout",
     "output_type": "stream",
     "text": [
      "<class 'pandas.core.frame.DataFrame'>\n",
      "RangeIndex: 100047 entries, 0 to 100046\n",
      "Data columns (total 10 columns):\n",
      " #   Column         Non-Null Count   Dtype  \n",
      "---  ------         --------------   -----  \n",
      " 0   title          100047 non-null  object \n",
      " 1   imdbid         100046 non-null  float64\n",
      " 2   runtime        100046 non-null  object \n",
      " 3   genre          100046 non-null  object \n",
      " 4   ratings        100046 non-null  float64\n",
      " 5   director       100046 non-null  object \n",
      " 6   cast           100046 non-null  object \n",
      " 7   Description    100046 non-null  object \n",
      " 8   released_year  100046 non-null  float64\n",
      " 9   movie_link     100046 non-null  object \n",
      "dtypes: float64(3), object(7)\n",
      "memory usage: 7.6+ MB\n"
     ]
    }
   ],
   "source": [
    "df2.info()"
   ]
  },
  {
   "cell_type": "code",
   "execution_count": 67,
   "id": "390cca28",
   "metadata": {},
   "outputs": [],
   "source": [
    "merged_df = pd.merge(df1, df2, on='imdbid')\n"
   ]
  },
  {
   "cell_type": "code",
   "execution_count": 69,
   "id": "7b03cf7b",
   "metadata": {
    "scrolled": true
   },
   "outputs": [
    {
     "name": "stdout",
     "output_type": "stream",
     "text": [
      "<class 'pandas.core.frame.DataFrame'>\n",
      "Int64Index: 5206 entries, 0 to 5205\n",
      "Data columns (total 14 columns):\n",
      " #   Column         Non-Null Count  Dtype  \n",
      "---  ------         --------------  -----  \n",
      " 0   title_x        5206 non-null   object \n",
      " 1   imdbid         5206 non-null   float64\n",
      " 2   id             5206 non-null   int64  \n",
      " 3   rating         5206 non-null   int64  \n",
      " 4   year           5206 non-null   int64  \n",
      " 5   title_y        5206 non-null   object \n",
      " 6   runtime        5206 non-null   object \n",
      " 7   genre          5206 non-null   object \n",
      " 8   ratings        5206 non-null   float64\n",
      " 9   director       5206 non-null   object \n",
      " 10  cast           5206 non-null   object \n",
      " 11  Description    5206 non-null   object \n",
      " 12  released_year  5206 non-null   float64\n",
      " 13  movie_link     5206 non-null   object \n",
      "dtypes: float64(3), int64(3), object(8)\n",
      "memory usage: 610.1+ KB\n"
     ]
    }
   ],
   "source": [
    "merged_df.info()"
   ]
  },
  {
   "cell_type": "code",
   "execution_count": 70,
   "id": "9f1f2e54",
   "metadata": {},
   "outputs": [],
   "source": [
    "merged_df.to_csv('df5k.csv')\n"
   ]
  },
  {
   "cell_type": "code",
   "execution_count": null,
   "id": "6265e68c",
   "metadata": {},
   "outputs": [],
   "source": [
    "# Create an empty list to store the potential matches\n",
    "potential_matches = []\n",
    "\n",
    "# Iterate over the movie titles in both datasets\n",
    "for title1 in df1['title']:\n",
    "    for title2 in df2['title']:\n",
    "        score = fuzz.ratio(title1, title2)\n",
    "        if score > 80:\n",
    "            potential_matches.append((title1, title2, score))\n",
    "\n",
    "# Create a DataFrame of potential matches\n",
    "df_matches = pd.DataFrame(potential_matches, columns=['title1', 'title2', 'score'])\n",
    "\n",
    "\n"
   ]
  },
  {
   "cell_type": "code",
   "execution_count": null,
   "id": "3120d328",
   "metadata": {},
   "outputs": [],
   "source": []
  }
 ],
 "metadata": {
  "kernelspec": {
   "display_name": "Python 3 (ipykernel)",
   "language": "python",
   "name": "python3"
  },
  "language_info": {
   "codemirror_mode": {
    "name": "ipython",
    "version": 3
   },
   "file_extension": ".py",
   "mimetype": "text/x-python",
   "name": "python",
   "nbconvert_exporter": "python",
   "pygments_lexer": "ipython3",
   "version": "3.9.13"
  }
 },
 "nbformat": 4,
 "nbformat_minor": 5
}
