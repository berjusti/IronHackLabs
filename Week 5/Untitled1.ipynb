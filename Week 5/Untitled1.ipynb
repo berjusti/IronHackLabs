{
 "cells": [
  {
   "cell_type": "code",
   "execution_count": 3,
   "id": "f78e780c",
   "metadata": {},
   "outputs": [],
   "source": [
    "import numpy as np\n",
    "import pandas as pd\n",
    "import matplotlib.pyplot as plt\n",
    "%matplotlib inline  \n",
    "import seaborn as sns\n",
    "import statsmodels.api as sm\n",
    "from scipy.stats import boxcox\n",
    "pd.options.display.max_rows = 100\n"
   ]
  },
  {
   "cell_type": "code",
   "execution_count": 4,
   "id": "88944857",
   "metadata": {},
   "outputs": [],
   "source": [
    "# Load the datasets and investigate \n",
    "df1 = pd.read_csv('/Users/justynakurach/Documents/GitHub/IronHackLabs/Week 5/Movie Bechdel Test Scores/Bechdel.csv')\n",
    "df2 = pd.read_csv('/Users/justynakurach/Documents/GitHub/IronHackLabs/Week 5/FINAL DATASETS SELECTION/100k_Movies_dataset.csv')\n",
    "\n"
   ]
  },
  {
   "cell_type": "code",
   "execution_count": 5,
   "id": "35409920",
   "metadata": {
    "scrolled": true
   },
   "outputs": [
    {
     "data": {
      "text/html": [
       "<div>\n",
       "<style scoped>\n",
       "    .dataframe tbody tr th:only-of-type {\n",
       "        vertical-align: middle;\n",
       "    }\n",
       "\n",
       "    .dataframe tbody tr th {\n",
       "        vertical-align: top;\n",
       "    }\n",
       "\n",
       "    .dataframe thead th {\n",
       "        text-align: right;\n",
       "    }\n",
       "</style>\n",
       "<table border=\"1\" class=\"dataframe\">\n",
       "  <thead>\n",
       "    <tr style=\"text-align: right;\">\n",
       "      <th></th>\n",
       "      <th>Unnamed: 0</th>\n",
       "      <th>title</th>\n",
       "      <th>imdbid</th>\n",
       "      <th>id</th>\n",
       "      <th>rating</th>\n",
       "      <th>year</th>\n",
       "    </tr>\n",
       "  </thead>\n",
       "  <tbody>\n",
       "    <tr>\n",
       "      <th>0</th>\n",
       "      <td>0</td>\n",
       "      <td>Passage de Venus</td>\n",
       "      <td>3155794.0</td>\n",
       "      <td>9602</td>\n",
       "      <td>0</td>\n",
       "      <td>1874</td>\n",
       "    </tr>\n",
       "    <tr>\n",
       "      <th>1</th>\n",
       "      <td>1</td>\n",
       "      <td>La Rosace Magique</td>\n",
       "      <td>14495706.0</td>\n",
       "      <td>9804</td>\n",
       "      <td>0</td>\n",
       "      <td>1877</td>\n",
       "    </tr>\n",
       "    <tr>\n",
       "      <th>2</th>\n",
       "      <td>2</td>\n",
       "      <td>Sallie Gardner at a Gallop</td>\n",
       "      <td>2221420.0</td>\n",
       "      <td>9603</td>\n",
       "      <td>0</td>\n",
       "      <td>1878</td>\n",
       "    </tr>\n",
       "    <tr>\n",
       "      <th>3</th>\n",
       "      <td>3</td>\n",
       "      <td>Le singe musicien</td>\n",
       "      <td>12592084.0</td>\n",
       "      <td>9806</td>\n",
       "      <td>0</td>\n",
       "      <td>1878</td>\n",
       "    </tr>\n",
       "    <tr>\n",
       "      <th>4</th>\n",
       "      <td>4</td>\n",
       "      <td>Athlete Swinging a Pick</td>\n",
       "      <td>7816420.0</td>\n",
       "      <td>9816</td>\n",
       "      <td>0</td>\n",
       "      <td>1881</td>\n",
       "    </tr>\n",
       "    <tr>\n",
       "      <th>...</th>\n",
       "      <td>...</td>\n",
       "      <td>...</td>\n",
       "      <td>...</td>\n",
       "      <td>...</td>\n",
       "      <td>...</td>\n",
       "      <td>...</td>\n",
       "    </tr>\n",
       "    <tr>\n",
       "      <th>9368</th>\n",
       "      <td>9368</td>\n",
       "      <td>Love Hard</td>\n",
       "      <td>10752004.0</td>\n",
       "      <td>10152</td>\n",
       "      <td>2</td>\n",
       "      <td>2021</td>\n",
       "    </tr>\n",
       "    <tr>\n",
       "      <th>9369</th>\n",
       "      <td>9369</td>\n",
       "      <td>Cruella</td>\n",
       "      <td>3228774.0</td>\n",
       "      <td>10155</td>\n",
       "      <td>3</td>\n",
       "      <td>2021</td>\n",
       "    </tr>\n",
       "    <tr>\n",
       "      <th>9370</th>\n",
       "      <td>9370</td>\n",
       "      <td>West Side Story</td>\n",
       "      <td>3581652.0</td>\n",
       "      <td>10157</td>\n",
       "      <td>3</td>\n",
       "      <td>2021</td>\n",
       "    </tr>\n",
       "    <tr>\n",
       "      <th>9371</th>\n",
       "      <td>9371</td>\n",
       "      <td>Every Time a Bell Rings</td>\n",
       "      <td>15943414.0</td>\n",
       "      <td>10158</td>\n",
       "      <td>3</td>\n",
       "      <td>2021</td>\n",
       "    </tr>\n",
       "    <tr>\n",
       "      <th>9372</th>\n",
       "      <td>9372</td>\n",
       "      <td>Single All The Way</td>\n",
       "      <td>14315756.0</td>\n",
       "      <td>10161</td>\n",
       "      <td>3</td>\n",
       "      <td>2021</td>\n",
       "    </tr>\n",
       "  </tbody>\n",
       "</table>\n",
       "<p>9373 rows × 6 columns</p>\n",
       "</div>"
      ],
      "text/plain": [
       "      Unnamed: 0                       title      imdbid     id  rating  year\n",
       "0              0            Passage de Venus   3155794.0   9602       0  1874\n",
       "1              1           La Rosace Magique  14495706.0   9804       0  1877\n",
       "2              2  Sallie Gardner at a Gallop   2221420.0   9603       0  1878\n",
       "3              3           Le singe musicien  12592084.0   9806       0  1878\n",
       "4              4     Athlete Swinging a Pick   7816420.0   9816       0  1881\n",
       "...          ...                         ...         ...    ...     ...   ...\n",
       "9368        9368                   Love Hard  10752004.0  10152       2  2021\n",
       "9369        9369                     Cruella   3228774.0  10155       3  2021\n",
       "9370        9370             West Side Story   3581652.0  10157       3  2021\n",
       "9371        9371     Every Time a Bell Rings  15943414.0  10158       3  2021\n",
       "9372        9372          Single All The Way  14315756.0  10161       3  2021\n",
       "\n",
       "[9373 rows x 6 columns]"
      ]
     },
     "execution_count": 5,
     "metadata": {},
     "output_type": "execute_result"
    }
   ],
   "source": [
    "df1"
   ]
  },
  {
   "cell_type": "code",
   "execution_count": null,
   "id": "c975f6b8",
   "metadata": {},
   "outputs": [],
   "source": [
    "df2\n",
    "df2 = df2.rename(columns={'title': 'movie_title', 'year': 'movie_year'})\n"
   ]
  },
  {
   "cell_type": "code",
   "execution_count": null,
   "id": "8556239a",
   "metadata": {},
   "outputs": [],
   "source": [
    "#only one column in df1 needs to be droppped\n",
    "df1 = df1.drop('Unnamed: 0', axis=1)"
   ]
  },
  {
   "cell_type": "code",
   "execution_count": null,
   "id": "57fc0b33",
   "metadata": {},
   "outputs": [],
   "source": [
    "\n",
    "from fuzzywuzzy import fuzz\n",
    "# Create an empty list to store the potential matches\n",
    "potential_matches = []\n",
    "\n",
    "# Iterate over the movie titles in both datasets\n",
    "for title1 in df1['title']:\n",
    "    for title2 in df2['title']:\n",
    "        score = fuzz.ratio(title1, title2)\n",
    "        if score > 80:\n",
    "            potential_matches.append((title1, title2, score))\n",
    "\n",
    "# Create a DataFrame of potential matches\n",
    "df_matches = pd.DataFrame(potential_matches, columns=['title1', 'title2', 'score'])"
   ]
  },
  {
   "cell_type": "code",
   "execution_count": null,
   "id": "ae937f0b",
   "metadata": {},
   "outputs": [],
   "source": [
    "df_matches.head()"
   ]
  },
  {
   "cell_type": "code",
   "execution_count": null,
   "id": "0157d6d5",
   "metadata": {},
   "outputs": [],
   "source": [
    "# merge the two dataframes on 'title'\n",
    "merged_df = pd.merge(df1, df2, on='title', how='left')\n",
    "\n",
    "# print the first five rows of the merged dataframe\n",
    "print(merged_df.head())\n"
   ]
  },
  {
   "cell_type": "code",
   "execution_count": null,
   "id": "575117a9",
   "metadata": {},
   "outputs": [],
   "source": [
    "merged_df.info()"
   ]
  },
  {
   "cell_type": "code",
   "execution_count": null,
   "id": "5f4f1412",
   "metadata": {},
   "outputs": [],
   "source": [
    "# Calculate percentage of missing values for each column\n",
    "nan_percentage = merged_df.isna().mean() * 100\n",
    "\n",
    "# Print the percentage of missing values for each column\n",
    "print(nan_percentage)\n"
   ]
  },
  {
   "cell_type": "code",
   "execution_count": null,
   "id": "32388ab3",
   "metadata": {},
   "outputs": [],
   "source": [
    "# Drop rows with any missing values\n",
    "df_matches_dropped = merged_df.dropna()\n",
    "\n",
    "# Print the shape of the new dataframe\n",
    "print(df_matches_dropped.shape)\n"
   ]
  },
  {
   "cell_type": "code",
   "execution_count": null,
   "id": "aff42795",
   "metadata": {},
   "outputs": [],
   "source": [
    "df_matches_dropped.head()"
   ]
  },
  {
   "cell_type": "code",
   "execution_count": null,
   "id": "c09f1752",
   "metadata": {},
   "outputs": [],
   "source": [
    "# Check for duplicate movie titles in the final dataframe\n",
    "duplicates = df_matches_dropped.duplicated(subset='title')\n",
    "\n",
    "# Count the number of duplicates\n",
    "num_duplicates = sum(duplicates)\n",
    "\n",
    "# Print the number of duplicates\n",
    "print(\"Number of duplicate movie titles: \", num_duplicates)\n"
   ]
  },
  {
   "cell_type": "code",
   "execution_count": null,
   "id": "e3f893d5",
   "metadata": {},
   "outputs": [],
   "source": [
    "# Find the duplicate movie titles\n",
    "duplicates = df_matches_dropped[df_matches_dropped.duplicated(subset='title')]\n",
    "\n",
    "# Print the duplicate movie titles\n",
    "print(\"Duplicate movie titles:\")\n",
    "print(duplicates)\n"
   ]
  },
  {
   "cell_type": "code",
   "execution_count": null,
   "id": "505090a4",
   "metadata": {},
   "outputs": [],
   "source": [
    "duplicates.head()"
   ]
  },
  {
   "cell_type": "code",
   "execution_count": null,
   "id": "61a6c115",
   "metadata": {},
   "outputs": [],
   "source": []
  }
 ],
 "metadata": {
  "kernelspec": {
   "display_name": "Python 3 (ipykernel)",
   "language": "python",
   "name": "python3"
  },
  "language_info": {
   "codemirror_mode": {
    "name": "ipython",
    "version": 3
   },
   "file_extension": ".py",
   "mimetype": "text/x-python",
   "name": "python",
   "nbconvert_exporter": "python",
   "pygments_lexer": "ipython3",
   "version": "3.9.13"
  }
 },
 "nbformat": 4,
 "nbformat_minor": 5
}
