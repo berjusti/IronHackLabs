{
 "cells": [
  {
   "cell_type": "markdown",
   "id": "bccb446a",
   "metadata": {},
   "source": [
    "Box Office Performance of Movies with Female Leads\n"
   ]
  },
  {
   "cell_type": "code",
   "execution_count": null,
   "id": "e74fd5c4",
   "metadata": {},
   "outputs": [],
   "source": []
  },
  {
   "cell_type": "markdown",
   "id": "d74263eb",
   "metadata": {},
   "source": [
    "Movie Bechdel Test Scores "
   ]
  },
  {
   "cell_type": "code",
   "execution_count": null,
   "id": "8d105b78",
   "metadata": {},
   "outputs": [],
   "source": []
  }
 ],
 "metadata": {
  "kernelspec": {
   "display_name": "Python 3 (ipykernel)",
   "language": "python",
   "name": "python3"
  },
  "language_info": {
   "codemirror_mode": {
    "name": "ipython",
    "version": 3
   },
   "file_extension": ".py",
   "mimetype": "text/x-python",
   "name": "python",
   "nbconvert_exporter": "python",
   "pygments_lexer": "ipython3",
   "version": "3.9.13"
  }
 },
 "nbformat": 4,
 "nbformat_minor": 5
}
