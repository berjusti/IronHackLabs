{
 "cells": [
  {
   "cell_type": "code",
   "execution_count": 2,
   "id": "0e5a2b62",
   "metadata": {
    "scrolled": true
   },
   "outputs": [],
   "source": [
    "import numpy as np\n",
    "import pandas as pd\n",
    "\n",
    "import matplotlib.pyplot as plt\n",
    "%matplotlib inline  \n",
    "import seaborn as sns\n",
    "import statsmodels.api as sm\n",
    "from scipy.stats import boxcox\n",
    "pd.set_option('display.max_rows', 1000)\n",
    "pd.set_option('display.width', 1000)\n",
    "pd.set_option('display.max_colwidth', 1000)\n",
    "\n",
    "from fuzzywuzzy import fuzz\n",
    "\n",
    "\n"
   ]
  },
  {
   "cell_type": "code",
   "execution_count": 3,
   "id": "604d18ed",
   "metadata": {},
   "outputs": [
    {
     "name": "stderr",
     "output_type": "stream",
     "text": [
      "/var/folders/k8/l3hrl_fn5y7bx5qcfv9y8p900000gn/T/ipykernel_55698/878154895.py:3: DtypeWarning: Columns (7,8) have mixed types. Specify dtype option on import or set low_memory=False.\n",
      "  df2 = pd.read_csv('/Users/justynakurach/Documents/GitHub/IronHackLabs/Week 5/FINAL DATASETS SELECTION/2Mmovies.csv')\n"
     ]
    }
   ],
   "source": [
    "# Load the datasets and investigate \n",
    "df1 = pd.read_csv('/Users/justynakurach/Documents/GitHub/IronHackLabs/Week 5/Movie Bechdel Test Scores/Bechdel.csv')\n",
    "df2 = pd.read_csv('/Users/justynakurach/Documents/GitHub/IronHackLabs/Week 5/FINAL DATASETS SELECTION/2Mmovies.csv')"
   ]
  },
  {
   "cell_type": "code",
   "execution_count": 4,
   "id": "8d274b76",
   "metadata": {},
   "outputs": [],
   "source": [
    "df1 = df1.drop('Unnamed: 0', axis=1)"
   ]
  },
  {
   "cell_type": "code",
   "execution_count": 6,
   "id": "d48d0fa0",
   "metadata": {
    "scrolled": false
   },
   "outputs": [
    {
     "name": "stdout",
     "output_type": "stream",
     "text": [
      "<class 'pandas.core.frame.DataFrame'>\n",
      "RangeIndex: 9373 entries, 0 to 9372\n",
      "Data columns (total 5 columns):\n",
      " #   Column  Non-Null Count  Dtype  \n",
      "---  ------  --------------  -----  \n",
      " 0   title   9373 non-null   object \n",
      " 1   imdbid  9373 non-null   float64\n",
      " 2   id      9373 non-null   int64  \n",
      " 3   rating  9373 non-null   int64  \n",
      " 4   year    9373 non-null   int64  \n",
      "dtypes: float64(1), int64(3), object(1)\n",
      "memory usage: 366.3+ KB\n"
     ]
    }
   ],
   "source": [
    "df1.info()"
   ]
  },
  {
   "cell_type": "code",
   "execution_count": 8,
   "id": "7a4d6304",
   "metadata": {},
   "outputs": [
    {
     "name": "stdout",
     "output_type": "stream",
     "text": [
      "<class 'pandas.core.frame.DataFrame'>\n",
      "RangeIndex: 2590932 entries, 0 to 2590931\n",
      "Data columns (total 14 columns):\n",
      " #   Column          Dtype  \n",
      "---  ------          -----  \n",
      " 0   id              object \n",
      " 1   name            object \n",
      " 2   year            object \n",
      " 3   rating          float64\n",
      " 4   certificate     object \n",
      " 5   duration        object \n",
      " 6   genre           object \n",
      " 7   votes           object \n",
      " 8   gross_income    object \n",
      " 9   directors_id    object \n",
      " 10  directors_name  object \n",
      " 11  stars_id        object \n",
      " 12  stars_name      object \n",
      " 13  description     object \n",
      "dtypes: float64(1), object(13)\n",
      "memory usage: 276.7+ MB\n"
     ]
    }
   ],
   "source": [
    "df2.info()"
   ]
  },
  {
   "cell_type": "code",
   "execution_count": 9,
   "id": "450e278a",
   "metadata": {},
   "outputs": [],
   "source": [
    "df2 = df2.rename(columns={'id': 'imdbid'})\n"
   ]
  },
  {
   "cell_type": "code",
   "execution_count": 11,
   "id": "0d5bc5e8",
   "metadata": {},
   "outputs": [],
   "source": [
    "df2['imdbid'] = df2['imdbid'].str[2:]\n"
   ]
  },
  {
   "cell_type": "code",
   "execution_count": 13,
   "id": "2be00bbb",
   "metadata": {},
   "outputs": [],
   "source": [
    "df2['imdbid'] = df2['imdbid'].astype('float64')\n"
   ]
  },
  {
   "cell_type": "code",
   "execution_count": 14,
   "id": "291a174e",
   "metadata": {},
   "outputs": [
    {
     "name": "stdout",
     "output_type": "stream",
     "text": [
      "<class 'pandas.core.frame.DataFrame'>\n",
      "RangeIndex: 2590932 entries, 0 to 2590931\n",
      "Data columns (total 14 columns):\n",
      " #   Column          Dtype  \n",
      "---  ------          -----  \n",
      " 0   imdbid          float64\n",
      " 1   name            object \n",
      " 2   year            object \n",
      " 3   rating          float64\n",
      " 4   certificate     object \n",
      " 5   duration        object \n",
      " 6   genre           object \n",
      " 7   votes           object \n",
      " 8   gross_income    object \n",
      " 9   directors_id    object \n",
      " 10  directors_name  object \n",
      " 11  stars_id        object \n",
      " 12  stars_name      object \n",
      " 13  description     object \n",
      "dtypes: float64(2), object(12)\n",
      "memory usage: 276.7+ MB\n"
     ]
    }
   ],
   "source": [
    "df2.info()"
   ]
  },
  {
   "cell_type": "code",
   "execution_count": 15,
   "id": "b54f19d4",
   "metadata": {},
   "outputs": [],
   "source": [
    "merged_df = pd.merge(df1, df2, on='imdbid')\n"
   ]
  },
  {
   "cell_type": "code",
   "execution_count": 16,
   "id": "fd157148",
   "metadata": {
    "scrolled": true
   },
   "outputs": [
    {
     "name": "stdout",
     "output_type": "stream",
     "text": [
      "<class 'pandas.core.frame.DataFrame'>\n",
      "Int64Index: 6592 entries, 0 to 6591\n",
      "Data columns (total 18 columns):\n",
      " #   Column          Non-Null Count  Dtype  \n",
      "---  ------          --------------  -----  \n",
      " 0   title           6592 non-null   object \n",
      " 1   imdbid          6592 non-null   float64\n",
      " 2   id              6592 non-null   int64  \n",
      " 3   rating_x        6592 non-null   int64  \n",
      " 4   year_x          6592 non-null   int64  \n",
      " 5   name            6592 non-null   object \n",
      " 6   year_y          6592 non-null   object \n",
      " 7   rating_y        6592 non-null   float64\n",
      " 8   certificate     6592 non-null   object \n",
      " 9   duration        6592 non-null   object \n",
      " 10  genre           6592 non-null   object \n",
      " 11  votes           6592 non-null   object \n",
      " 12  gross_income    6592 non-null   object \n",
      " 13  directors_id    6592 non-null   object \n",
      " 14  directors_name  6592 non-null   object \n",
      " 15  stars_id        6592 non-null   object \n",
      " 16  stars_name      6592 non-null   object \n",
      " 17  description     6592 non-null   object \n",
      "dtypes: float64(2), int64(3), object(13)\n",
      "memory usage: 978.5+ KB\n"
     ]
    }
   ],
   "source": [
    "merged_df.info()"
   ]
  },
  {
   "cell_type": "code",
   "execution_count": 18,
   "id": "05bb2164",
   "metadata": {},
   "outputs": [
    {
     "name": "stdout",
     "output_type": "stream",
     "text": [
      "title             0.0\n",
      "imdbid            0.0\n",
      "id                0.0\n",
      "rating_x          0.0\n",
      "year_x            0.0\n",
      "name              0.0\n",
      "year_y            0.0\n",
      "rating_y          0.0\n",
      "certificate       0.0\n",
      "duration          0.0\n",
      "genre             0.0\n",
      "votes             0.0\n",
      "gross_income      0.0\n",
      "directors_id      0.0\n",
      "directors_name    0.0\n",
      "stars_id          0.0\n",
      "stars_name        0.0\n",
      "description       0.0\n",
      "dtype: float64\n"
     ]
    }
   ],
   "source": [
    "nan_percentage = merged_df.isna().mean() * 100\n",
    "\n",
    "# Print the percentage of missing values for each column\n",
    "print(nan_percentage)"
   ]
  },
  {
   "cell_type": "code",
   "execution_count": null,
   "id": "3120d328",
   "metadata": {},
   "outputs": [],
   "source": []
  }
 ],
 "metadata": {
  "kernelspec": {
   "display_name": "Python 3 (ipykernel)",
   "language": "python",
   "name": "python3"
  },
  "language_info": {
   "codemirror_mode": {
    "name": "ipython",
    "version": 3
   },
   "file_extension": ".py",
   "mimetype": "text/x-python",
   "name": "python",
   "nbconvert_exporter": "python",
   "pygments_lexer": "ipython3",
   "version": "3.9.13"
  }
 },
 "nbformat": 4,
 "nbformat_minor": 5
}
