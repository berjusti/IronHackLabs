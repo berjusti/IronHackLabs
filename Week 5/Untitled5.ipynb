{
 "cells": [
  {
   "cell_type": "code",
   "execution_count": 52,
   "id": "0e5a2b62",
   "metadata": {
    "scrolled": true
   },
   "outputs": [],
   "source": [
    "import numpy as np\n",
    "import pandas as pd\n",
    "\n",
    "import matplotlib.pyplot as plt\n",
    "%matplotlib inline  \n",
    "import seaborn as sns\n",
    "import statsmodels.api as sm\n",
    "from scipy.stats import boxcox\n",
    "pd.set_option('display.max_rows', 1000)\n",
    "pd.set_option('display.width', 1000)\n",
    "pd.set_option('display.max_colwidth', 1000)\n",
    "\n",
    "from fuzzywuzzy import fuzz\n",
    "\n",
    "\n"
   ]
  },
  {
   "cell_type": "code",
   "execution_count": 53,
   "id": "604d18ed",
   "metadata": {},
   "outputs": [],
   "source": [
    "# Load the datasets and investigate \n",
    "df1 = pd.read_csv('/Users/justynakurach/Documents/GitHub/IronHackLabs/Week 5/Movie Bechdel Test Scores/Bechdel.csv')\n",
    "df2 = pd.read_csv('/Users/justynakurach/Documents/GitHub/IronHackLabs/Week 5/FINAL DATASETS SELECTION/100k_Movies_dataset.csv')"
   ]
  },
  {
   "cell_type": "code",
   "execution_count": 54,
   "id": "ccf48802",
   "metadata": {},
   "outputs": [],
   "source": [
    "df1 = df1.drop('Unnamed: 0', axis=1)"
   ]
  },
  {
   "cell_type": "code",
   "execution_count": 58,
   "id": "795aeead",
   "metadata": {
    "scrolled": true
   },
   "outputs": [
    {
     "name": "stdout",
     "output_type": "stream",
     "text": [
      "<class 'pandas.core.frame.DataFrame'>\n",
      "RangeIndex: 9373 entries, 0 to 9372\n",
      "Data columns (total 5 columns):\n",
      " #   Column  Non-Null Count  Dtype  \n",
      "---  ------  --------------  -----  \n",
      " 0   title   9373 non-null   object \n",
      " 1   imdbid  9373 non-null   float64\n",
      " 2   id      9373 non-null   int64  \n",
      " 3   rating  9373 non-null   int64  \n",
      " 4   year    9373 non-null   int64  \n",
      "dtypes: float64(1), int64(3), object(1)\n",
      "memory usage: 366.3+ KB\n"
     ]
    }
   ],
   "source": [
    "df1.info()"
   ]
  },
  {
   "cell_type": "code",
   "execution_count": 60,
   "id": "450e278a",
   "metadata": {},
   "outputs": [],
   "source": [
    "df2 = df2.rename(columns={'id': 'imdbid'})\n"
   ]
  },
  {
   "cell_type": "code",
   "execution_count": 62,
   "id": "5fcd2eb2",
   "metadata": {},
   "outputs": [
    {
     "data": {
      "text/plain": [
       "0          tt0200550\n",
       "1          tt0144084\n",
       "2          tt0172495\n",
       "3          tt0180093\n",
       "4          tt0175142\n",
       "             ...    \n",
       "100042    tt20855732\n",
       "100043    tt14509614\n",
       "100044    tt19309370\n",
       "100045    tt20421722\n",
       "100046           NaN\n",
       "Name: imdbid, Length: 100047, dtype: object"
      ]
     },
     "execution_count": 62,
     "metadata": {},
     "output_type": "execute_result"
    }
   ],
   "source": [
    "df2['imdbid']"
   ]
  },
  {
   "cell_type": "code",
   "execution_count": null,
   "id": "6265e68c",
   "metadata": {},
   "outputs": [],
   "source": [
    "# Create an empty list to store the potential matches\n",
    "potential_matches = []\n",
    "\n",
    "# Iterate over the movie titles in both datasets\n",
    "for title1 in df1['title']:\n",
    "    for title2 in df2['title']:\n",
    "        score = fuzz.ratio(title1, title2)\n",
    "        if score > 80:\n",
    "            potential_matches.append((title1, title2, score))\n",
    "\n",
    "# Create a DataFrame of potential matches\n",
    "df_matches = pd.DataFrame(potential_matches, columns=['title1', 'title2', 'score'])\n",
    "\n",
    "\n"
   ]
  },
  {
   "cell_type": "code",
   "execution_count": null,
   "id": "3120d328",
   "metadata": {},
   "outputs": [],
   "source": []
  }
 ],
 "metadata": {
  "kernelspec": {
   "display_name": "Python 3 (ipykernel)",
   "language": "python",
   "name": "python3"
  },
  "language_info": {
   "codemirror_mode": {
    "name": "ipython",
    "version": 3
   },
   "file_extension": ".py",
   "mimetype": "text/x-python",
   "name": "python",
   "nbconvert_exporter": "python",
   "pygments_lexer": "ipython3",
   "version": "3.9.13"
  }
 },
 "nbformat": 4,
 "nbformat_minor": 5
}
