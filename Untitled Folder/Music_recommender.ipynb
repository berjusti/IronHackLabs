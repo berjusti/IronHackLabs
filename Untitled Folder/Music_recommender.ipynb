{
 "cells": [
  {
   "cell_type": "code",
   "execution_count": 54,
   "id": "c579b0db",
   "metadata": {},
   "outputs": [
    {
     "data": {
      "text/plain": [
       "200"
      ]
     },
     "execution_count": 54,
     "metadata": {},
     "output_type": "execute_result"
    }
   ],
   "source": [
    "import pandas as pd\n",
    "from bs4 import BeautifulSoup\n",
    "import requests\n",
    "\n",
    "url = 'https://www.billboard.com/charts/hot-100'\n",
    "\n",
    "# Make a GET request to the url and store the response\n",
    "response = requests.get(url)\n",
    "\n",
    "# Create a BeautifulSoup object and parse the response content with an html parser\n",
    "soup = BeautifulSoup(response.content, 'html.parser')\n",
    "response.status_code # 200 status code means OK!"
   ]
  },
  {
   "cell_type": "code",
   "execution_count": 56,
   "id": "636fa94e",
   "metadata": {},
   "outputs": [
    {
     "name": "stdout",
     "output_type": "stream",
     "text": [
      "['Last Night', 'Search & Rescue', 'Flowers', 'Kill Bill', \"Creepin'\", 'Calm Down', 'Die For You', \"Boy's A Liar, Pt. 2\", 'Anti-Hero', 'Ella Baila Sola', 'Rock And A Hard Place', 'Players', 'You Proof', 'Favorite Song', 'Sure Thing', 'Lavender Haze', 'La Bebe', 'As It Was', 'Thought You Should Know', \"Thinkin' Bout Me\", \"I'm Good (Blue)\", 'One Thing At A Time', 'Fast Car', 'Under The Influence', 'Something In The Orange', 'Escapism', 'Thank God', 'Slut Me Out', 'Unholy', 'Just Wanna Rock', 'Handle On You', 'Wait In The Truck', 'TQG', 'Snooze', 'Rich Flex', 'Heart Like A Truck', \"Dancin' In The Country\", 'Superhero (Heroes & Villains)', 'Spin Bout U', 'Love You Anyway', 'Fight The Feeling', 'Eyes Closed', 'Until I Found You', 'Cuff It', 'Going, Going, Gone', 'Bloody Mary', 'Golden Hour', 'Next Thing You Know', 'PRC', 'Wild As Her', 'Por Las Noches', 'Like Crazy', 'AMG', 'Happy', 'Tennessee Orange', \"Ain't That Some\", 'Everything I Love', 'Low Down', '5 Leaf Clover', 'Cupid', 'Red Ruby Da Sleeze', 'Bebe Dame', 'I Wrote The Book', 'All Of The Girls You Loved Before', 'Cowgirls', 'Beso', 'Man Made A Bar', 'Nonsense', 'Dogtooth', 'Ch y La Pizza', 'Strike (Holster)', 'Yandel 150', 'Need A Favor', 'Special', 'ICU', 'In Ha Mood', 'Painting Pictures', 'Ceilings', 'Bzrp Music Sessions, Vol. 53', 'Trance', 'Nasty', 'Sorry Not Sorry', 'Peaches', 'Forever', 'Careful', 'Gold', 'El Azul', 'Love Again', 'Human', 'I Know', 'Dawns', 'El Gordo Trae El Mando', 'Sunrise', 'Never Felt So Alone', \"Don't Play With It\", 'Memory Lane', \"What He Didn't Do\", 'Que Vuelvas', 'WTF', \"'98 Braves\"]\n",
      "['Morgan Wallen', 'Drake', 'Miley Cyrus', 'SZA', 'Metro Boomin, The Weeknd & 21 Savage', 'Rema & Selena Gomez', 'The Weeknd & Ariana Grande', 'PinkPantheress & Ice Spice', 'Taylor Swift', 'Eslabon Armado X Peso Pluma', 'Bailey Zimmerman', 'Coi Leray', 'Morgan Wallen', 'Toosii', 'Miguel', 'Taylor Swift', 'Yng Lvcas x Peso Pluma', 'Harry Styles', 'Morgan Wallen', 'Morgan Wallen', 'David Guetta & Bebe Rexha', 'Morgan Wallen', 'Luke Combs', 'Chris Brown', 'Zach Bryan', 'RAYE Featuring 070 Shake', 'Kane Brown With Katelyn Brown', 'NLE Choppa', 'Sam Smith & Kim Petras', 'Lil Uzi Vert', 'Parker McCollum', 'HARDY Featuring Lainey Wilson', 'Karol G x Shakira', 'SZA', 'Drake & 21 Savage', 'Lainey Wilson', 'Tyler Hubbard', 'Metro Boomin, Future & Chris Brown', 'Drake & 21 Savage', 'Luke Combs', 'Rod Wave', 'Ed Sheeran', 'Stephen Sanchez', 'Beyonce', 'Luke Combs', 'Lady Gaga', 'JVKE', 'Jordan Davis', 'Peso Pluma X Natanael Cano', 'Corey Kent', 'Peso Pluma', 'Jimin', 'Gabito Ballesteros, Peso Pluma & Natanael Cano', 'NF', 'Megan Moroney', 'Morgan Wallen', 'Morgan Wallen', 'Lil Baby', 'Luke Combs', 'Fifty Fifty', 'Nicki Minaj', 'Fuerza Regida X Grupo Frontera', 'Morgan Wallen', 'Taylor Swift', 'Morgan Wallen Featuring ERNEST', 'Rosalia & Rauw Alejandro', 'Morgan Wallen Featuring Eric Church', 'Sabrina Carpenter', 'Tyler, The Creator', 'Fuerza Regida X Natanael Cano', 'Lil Yachty', 'Yandel & Feid', 'Jelly Roll', 'Lizzo Featuring SZA', 'Coco Jones', 'Ice Spice', 'Superstar Pride', 'Lizzy McAlpine', 'Bizarrap & Shakira', 'Metro Boomin, Travis Scott & Young Thug', 'Russ', 'Tyler, The Creator', 'Jack Black', 'Lil Baby Featuring Fridayy', 'NF & Cordae', 'Dierks Bentley', 'Junior H x Peso Pluma', 'The Kid LAROI', 'Cody Johnson', 'Kanii', 'Zach Bryan Featuring Maggie Rogers', 'Chino Pacas', 'Morgan Wallen', 'Labrinth', 'Lola Brooke X Latto X Yung Miami Or Featuring Billy B', 'Old Dominion', 'Carly Pearce', 'Carin Leon X Grupo Frontera', 'YoungBoy Never Broke Again Featuring Nicki Minaj', 'Morgan Wallen']\n"
     ]
    }
   ],
   "source": [
    "# Create empty lists to store the song titles and artist names\n",
    "song_titles = []\n",
    "artists = []\n",
    "\n",
    "# Loop through all the li tags with class 'o-chart-results-list__item' in the soup object\n",
    "for tag in soup.find_all('li', class_='o-chart-results-list__item'):\n",
    "    # Find the h3 tag with class 'c-title' inside the current li tag\n",
    "    song_title_tag = tag.find('h3', class_='c-title')\n",
    "    # If the song_title_tag exists, extract the text and append to song_titles list\n",
    "    if song_title_tag:\n",
    "        song_title = song_title_tag.text.strip()\n",
    "        song_titles.append(song_title)\n",
    "    # Find the span tag with class 'c-label' inside the current li tag\n",
    "        artist_tag = tag.find('span', class_='c-label')\n",
    "    # If the artist_tag exists, extract the text and append to artists list\n",
    "        if artist_tag:\n",
    "            artist = artist_tag.text.strip()\n",
    "            artists.append(artist)\n",
    "\n",
    "# Print the lists of song titles and artists\n",
    "print(song_titles)\n",
    "print(artists)\n"
   ]
  },
  {
   "cell_type": "code",
   "execution_count": 51,
   "id": "20af0494",
   "metadata": {},
   "outputs": [],
   "source": [
    "songs = pd.DataFrame({\"song_title\":song_titles,\n",
    "                       \"artist\":artists,\n",
    "                      })"
   ]
  },
  {
   "cell_type": "code",
   "execution_count": 52,
   "id": "83827224",
   "metadata": {},
   "outputs": [
    {
     "data": {
      "text/html": [
       "<div>\n",
       "<style scoped>\n",
       "    .dataframe tbody tr th:only-of-type {\n",
       "        vertical-align: middle;\n",
       "    }\n",
       "\n",
       "    .dataframe tbody tr th {\n",
       "        vertical-align: top;\n",
       "    }\n",
       "\n",
       "    .dataframe thead th {\n",
       "        text-align: right;\n",
       "    }\n",
       "</style>\n",
       "<table border=\"1\" class=\"dataframe\">\n",
       "  <thead>\n",
       "    <tr style=\"text-align: right;\">\n",
       "      <th></th>\n",
       "      <th>song_title</th>\n",
       "      <th>artist</th>\n",
       "    </tr>\n",
       "  </thead>\n",
       "  <tbody>\n",
       "    <tr>\n",
       "      <th>0</th>\n",
       "      <td>Last Night</td>\n",
       "      <td>Morgan Wallen</td>\n",
       "    </tr>\n",
       "    <tr>\n",
       "      <th>1</th>\n",
       "      <td>Search &amp; Rescue</td>\n",
       "      <td>Drake</td>\n",
       "    </tr>\n",
       "    <tr>\n",
       "      <th>2</th>\n",
       "      <td>Flowers</td>\n",
       "      <td>Miley Cyrus</td>\n",
       "    </tr>\n",
       "    <tr>\n",
       "      <th>3</th>\n",
       "      <td>Kill Bill</td>\n",
       "      <td>SZA</td>\n",
       "    </tr>\n",
       "    <tr>\n",
       "      <th>4</th>\n",
       "      <td>Creepin'</td>\n",
       "      <td>Metro Boomin, The Weeknd &amp; 21 Savage</td>\n",
       "    </tr>\n",
       "  </tbody>\n",
       "</table>\n",
       "</div>"
      ],
      "text/plain": [
       "        song_title                                artist\n",
       "0       Last Night                         Morgan Wallen\n",
       "1  Search & Rescue                                 Drake\n",
       "2          Flowers                           Miley Cyrus\n",
       "3        Kill Bill                                   SZA\n",
       "4         Creepin'  Metro Boomin, The Weeknd & 21 Savage"
      ]
     },
     "execution_count": 52,
     "metadata": {},
     "output_type": "execute_result"
    }
   ],
   "source": [
    "songs.head()"
   ]
  },
  {
   "cell_type": "code",
   "execution_count": 53,
   "id": "cb24361f",
   "metadata": {},
   "outputs": [
    {
     "data": {
      "text/plain": [
       "100"
      ]
     },
     "execution_count": 53,
     "metadata": {},
     "output_type": "execute_result"
    }
   ],
   "source": [
    "len(songs)"
   ]
  },
  {
   "cell_type": "code",
   "execution_count": null,
   "id": "78e71102",
   "metadata": {},
   "outputs": [],
   "source": []
  }
 ],
 "metadata": {
  "kernelspec": {
   "display_name": "Python 3 (ipykernel)",
   "language": "python",
   "name": "python3"
  },
  "language_info": {
   "codemirror_mode": {
    "name": "ipython",
    "version": 3
   },
   "file_extension": ".py",
   "mimetype": "text/x-python",
   "name": "python",
   "nbconvert_exporter": "python",
   "pygments_lexer": "ipython3",
   "version": "3.9.13"
  }
 },
 "nbformat": 4,
 "nbformat_minor": 5
}
