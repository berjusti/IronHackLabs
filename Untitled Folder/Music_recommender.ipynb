{
 "cells": [
  {
   "cell_type": "code",
   "execution_count": 1,
   "id": "c579b0db",
   "metadata": {},
   "outputs": [
    {
     "data": {
      "text/plain": [
       "200"
      ]
     },
     "execution_count": 1,
     "metadata": {},
     "output_type": "execute_result"
    }
   ],
   "source": [
    "import pandas as pd\n",
    "from bs4 import BeautifulSoup\n",
    "import requests\n",
    "\n",
    "url = 'https://www.billboard.com/charts/hot-100'\n",
    "\n",
    "# Make a GET request to the url and store the response\n",
    "response = requests.get(url)\n",
    "\n",
    "# Create a BeautifulSoup object and parse the response content with an html parser\n",
    "soup = BeautifulSoup(response.content, 'html.parser')\n",
    "response.status_code # 200 status code means OK!"
   ]
  },
  {
   "cell_type": "code",
   "execution_count": 2,
   "id": "636fa94e",
   "metadata": {},
   "outputs": [
    {
     "name": "stdout",
     "output_type": "stream",
     "text": [
      "['Kill Bill', 'Last Night', 'Flowers', 'Princess Diana', 'Ella Baila Sola', \"Creepin'\", 'Calm Down', 'Die For You', 'Search & Rescue', \"Boy's A Liar, Pt. 2\", 'Anti-Hero', 'La Bebe', 'Chemical', 'Favorite Song', 'Un x100to', 'Players', 'Rock And A Hard Place', 'You Proof', 'Fast Car', 'Sure Thing', 'As It Was', \"Thinkin' Bout Me\", 'Lavender Haze', 'One Thing At A Time', 'Thought You Should Know', \"I'm Good (Blue)\", 'Under The Influence', 'Thank God', 'Something In The Orange', 'Escapism', 'Slut Me Out', 'Por Las Noches', 'Unholy', 'Wait In The Truck', 'PRC', 'Just Wanna Rock', 'Handle On You', \"Dancin' In The Country\", 'Snooze', 'AMG', 'Superhero (Heroes & Villains)', 'TQG', 'Rich Flex', 'Love You Anyway', 'Spin Bout U', 'Next Thing You Know', 'Eyes Closed', 'Daylight', 'Heart Like A Truck', 'Cupid', 'Wild As Her', 'Bebe Dame', 'Bloody Mary', 'Tennessee Orange', 'Fight The Feeling', 'Peaches', 'Low Down', 'Beso', 'El Azul', 'Red Ruby Da Sleeze', \"Ain't That Some\", 'Never Felt So Alone', 'Nonsense', 'Everything I Love', 'See You Again', 'I Wrote The Book', 'Cowgirls', 'Man Made A Bar', 'Ch y La Pizza', 'Need A Favor', 'Yandel 150', 'In Ha Mood', 'Trance', 'ICU', 'El Gordo Trae El Mando', 'All Of The Girls You Loved Before', 'Gold', 'Dogtooth', 'Painting Pictures', 'Ceilings', 'Human', 'Que Vuelvas', 'Strike (Holster)', 'Sunrise', 'Like Crazy', 'Dawns', 'Happy', 'Chanel', 'Forever', 'Igualito A Mi Apa', 'Special', '5 Leaf Clover', 'Bzrp Music Sessions, Vol. 53', 'Heaven', \"Don't Play With It\", 'Memory Lane', 'Love Again', \"'98 Braves\", 'Di Que Si', 'It Matters To Her']\n",
      "['SZA', 'Morgan Wallen', 'Miley Cyrus', 'Ice Spice & Nicki Minaj', 'Eslabon Armado X Peso Pluma', 'Metro Boomin, The Weeknd & 21 Savage', 'Rema & Selena Gomez', 'The Weeknd & Ariana Grande', 'Drake', 'PinkPantheress & Ice Spice', 'Taylor Swift', 'Yng Lvcas x Peso Pluma', 'Post Malone', 'Toosii', 'Grupo Frontera X Bad Bunny', 'Coi Leray', 'Bailey Zimmerman', 'Morgan Wallen', 'Luke Combs', 'Miguel', 'Harry Styles', 'Morgan Wallen', 'Taylor Swift', 'Morgan Wallen', 'Morgan Wallen', 'David Guetta & Bebe Rexha', 'Chris Brown', 'Kane Brown With Katelyn Brown', 'Zach Bryan', 'RAYE Featuring 070 Shake', 'NLE Choppa', 'Peso Pluma', 'Sam Smith & Kim Petras', 'HARDY Featuring Lainey Wilson', 'Peso Pluma X Natanael Cano', 'Lil Uzi Vert', 'Parker McCollum', 'Tyler Hubbard', 'SZA', 'Gabito Ballesteros, Peso Pluma & Natanael Cano', 'Metro Boomin, Future & Chris Brown', 'Karol G x Shakira', 'Drake & 21 Savage', 'Luke Combs', 'Drake & 21 Savage', 'Jordan Davis', 'Ed Sheeran', 'David Kushner', 'Lainey Wilson', 'Fifty Fifty', 'Corey Kent', 'Fuerza Regida X Grupo Frontera', 'Lady Gaga', 'Megan Moroney', 'Rod Wave', 'Jack Black', 'Lil Baby', 'Rosalia & Rauw Alejandro', 'Junior H x Peso Pluma', 'Nicki Minaj', 'Morgan Wallen', 'Labrinth', 'Sabrina Carpenter', 'Morgan Wallen', 'Tyler, The Creator Featuring Kali Uchis', 'Morgan Wallen', 'Morgan Wallen Featuring ERNEST', 'Morgan Wallen Featuring Eric Church', 'Fuerza Regida X Natanael Cano', 'Jelly Roll', 'Yandel & Feid', 'Ice Spice', 'Metro Boomin, Travis Scott & Young Thug', 'Coco Jones', 'Chino Pacas', 'Taylor Swift', 'Dierks Bentley', 'Tyler, The Creator', 'Superstar Pride', 'Lizzy McAlpine', 'Cody Johnson', 'Carin Leon X Grupo Frontera', 'Lil Yachty', 'Morgan Wallen', 'Jimin', 'Zach Bryan Featuring Maggie Rogers', 'NF', 'Becky G & Peso Pluma', 'Lil Baby Featuring Fridayy', 'Fuerza Regida & Peso Pluma', 'Lizzo Featuring SZA', 'Luke Combs', 'Bizarrap & Shakira', 'Niall Horan', 'Lola Brooke X Latto X Yung Miami Or Featuring Billy B', 'Old Dominion', 'The Kid LAROI', 'Morgan Wallen', 'Grupo Marca Registrada X Grupo Frontera', 'Scotty McCreery']\n"
     ]
    }
   ],
   "source": [
    "# Create empty lists to store the song titles and artist names\n",
    "song_titles = []\n",
    "artists = []\n",
    "\n",
    "# Loop through all the li tags with class 'o-chart-results-list__item' in the soup object\n",
    "for tag in soup.find_all('li', class_='o-chart-results-list__item'):\n",
    "    # Find the h3 tag with class 'c-title' inside the current li tag\n",
    "    song_title_tag = tag.find('h3', class_='c-title')\n",
    "    # If the song_title_tag exists, extract the text and append to song_titles list\n",
    "    if song_title_tag:\n",
    "        song_title = song_title_tag.text.strip()\n",
    "        song_titles.append(song_title)\n",
    "    # Find the span tag with class 'c-label' inside the current li tag\n",
    "        artist_tag = tag.find('span', class_='c-label')\n",
    "    # If the artist_tag exists, extract the text and append to artists list\n",
    "        if artist_tag:\n",
    "            artist = artist_tag.text.strip()\n",
    "            artists.append(artist)\n",
    "\n",
    "# Print the lists of song titles and artists\n",
    "print(song_titles)\n",
    "print(artists)\n"
   ]
  },
  {
   "cell_type": "code",
   "execution_count": 3,
   "id": "20af0494",
   "metadata": {},
   "outputs": [],
   "source": [
    "songs = pd.DataFrame({\"song_title\":song_titles,\n",
    "                       \"artist\":artists,\n",
    "                      })"
   ]
  },
  {
   "cell_type": "code",
   "execution_count": null,
   "id": "83827224",
   "metadata": {},
   "outputs": [],
   "source": [
    "songs.head(100)"
   ]
  },
  {
   "cell_type": "code",
   "execution_count": null,
   "id": "cb24361f",
   "metadata": {},
   "outputs": [],
   "source": [
    "len(songs)"
   ]
  },
  {
   "cell_type": "code",
   "execution_count": null,
   "id": "cb1be928",
   "metadata": {},
   "outputs": [],
   "source": [
    "import random\n",
    "\n",
    "while True:\n",
    "    user_song_title = input(\"Please enter a song you listen to currently: \").lower()\n",
    "    user_artist_name = input('Enter who is the author of this song: ').lower()\n",
    "\n",
    "    try:\n",
    "        match = songs.query(\"song_title == @user_song_title and artist == @user_artist_name\").iloc[0]\n",
    "        print(\"This song is hot!\")\n",
    "\n",
    "        # Generate a random recommendation from the dataframe\n",
    "        rec = songs.sample(n=1)\n",
    "        rec_song_title = rec.iloc[0]['song_title']\n",
    "        rec_artist_name = rec.iloc[0]['artist']\n",
    "        print(f\"Since you like {user_song_title.title()} by {user_artist_name.title()}, you might also like {rec_song_title.title()} by {rec_artist_name.title()}!\")\n",
    "\n",
    "    except IndexError:\n",
    "        print(\"Sorry, we could not find a match for your song and artist combination.\")"
   ]
  }
 ],
 "metadata": {
  "kernelspec": {
   "display_name": "Python 3 (ipykernel)",
   "language": "python",
   "name": "python3"
  },
  "language_info": {
   "codemirror_mode": {
    "name": "ipython",
    "version": 3
   },
   "file_extension": ".py",
   "mimetype": "text/x-python",
   "name": "python",
   "nbconvert_exporter": "python",
   "pygments_lexer": "ipython3",
   "version": "3.9.13"
  }
 },
 "nbformat": 4,
 "nbformat_minor": 5
}
