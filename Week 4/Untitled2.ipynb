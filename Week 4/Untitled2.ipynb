{
 "cells": [
  {
   "cell_type": "code",
   "execution_count": 3,
   "id": "bd226c3e",
   "metadata": {},
   "outputs": [
    {
     "ename": "SyntaxError",
     "evalue": "invalid syntax (2531916237.py, line 1)",
     "output_type": "error",
     "traceback": [
      "\u001b[0;36m  File \u001b[0;32m\"/var/folders/k8/l3hrl_fn5y7bx5qcfv9y8p900000gn/T/ipykernel_12394/2531916237.py\"\u001b[0;36m, line \u001b[0;32m1\u001b[0m\n\u001b[0;31m    pip install selenium\u001b[0m\n\u001b[0m        ^\u001b[0m\n\u001b[0;31mSyntaxError\u001b[0m\u001b[0;31m:\u001b[0m invalid syntax\n"
     ]
    }
   ],
   "source": [
    "pip install selenium\n",
    "from selenium import webdriver\n",
    "from webdriver_manager.chrome import ChromeDriverManager\n",
    "from selenium.webdriver.chrome.service import Service as ChromeService\n",
    "from selenium.webdriver.chrome.options import Options\n",
    "import time\n",
    "from selenium.webdriver.common.by import By\n",
    "\n",
    "# initiating the webdriver, add headless option for dynamic content\n",
    "service = ChromeService(executable_path=ChromeDriverManager().install())\n",
    "options = Options()\n",
    "options.headless = True\n",
    "driver = webdriver.Chrome(service=service)\n",
    "\n",
    "# open L-night group on meetup.com\n",
    "driver.get(\"https://www.meetup.com/lnightberlin/events/past/\")\n",
    "driver.implicitly_wait(0.5)\n",
    "\n",
    "# log in to access past events\n",
    "with open(\"creds.txt\") as f:\n",
    "    creds = f.readlines()\n",
    "\n",
    "userid = creds[0]\n",
    "username = driver.find_element(\"id\",\"email\")\n",
    "username.send_keys(userid)\n",
    "\n",
    "pw = creds[1]\n",
    "password = driver.find_element(\"id\",\"current-password\")\n",
    "password.send_keys(pw)\n",
    "\n",
    "driver.find_element(\"name\",\"submitButton\").click()\n",
    "\n",
    "time.sleep(1)\n",
    "\n",
    "\n",
    "# Get scroll height after first time page load\n",
    "last_height = driver.execute_script(\"return document.body.scrollHeight\")\n",
    "while True:\n",
    "    # Scroll down to bottom\n",
    "    driver.execute_script(\"window.scrollTo(0, document.body.scrollHeight - 1300);\")\n",
    "    # Wait to load page\n",
    "    time.sleep(2)\n",
    "    # Calculate new scroll height and compare with last scroll height\n",
    "    new_height = driver.execute_script(\"return document.body.scrollHeight\")\n",
    "    if new_height == last_height:\n",
    "        break\n",
    "    last_height = new_height\n",
    "\n",
    "events = driver.find_elements(By.CLASS_NAME, \"eventCardHead\")\n",
    "\n",
    "# write results to a text file\n",
    "textfile = open(\"events.txt\", \"w\", encoding=\"utf-8\")\n",
    "for element in events:\n",
    "    textfile.write(element.text + \"\\n\\n\")\n",
    "textfile.close()\n",
    "\n",
    "time.sleep(10)"
   ]
  },
  {
   "cell_type": "code",
   "execution_count": null,
   "id": "77ac98f1",
   "metadata": {},
   "outputs": [],
   "source": []
  }
 ],
 "metadata": {
  "kernelspec": {
   "display_name": "Python 3 (ipykernel)",
   "language": "python",
   "name": "python3"
  },
  "language_info": {
   "codemirror_mode": {
    "name": "ipython",
    "version": 3
   },
   "file_extension": ".py",
   "mimetype": "text/x-python",
   "name": "python",
   "nbconvert_exporter": "python",
   "pygments_lexer": "ipython3",
   "version": "3.9.13"
  }
 },
 "nbformat": 4,
 "nbformat_minor": 5
}
