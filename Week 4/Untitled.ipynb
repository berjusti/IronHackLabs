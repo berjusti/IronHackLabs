{
 "cells": [
  {
   "cell_type": "code",
   "execution_count": 28,
   "id": "eccf894e",
   "metadata": {},
   "outputs": [],
   "source": [
    "import numpy as np\n",
    "import pandas as pd\n",
    "import matplotlib.pyplot as plt\n",
    "%matplotlib inline  \n",
    "import seaborn as sns\n",
    "import statsmodels.api as sm\n",
    "from scipy.stats import boxcox\n",
    "pd.options.display.max_rows = 100"
   ]
  },
  {
   "cell_type": "markdown",
   "id": "3b7fb985",
   "metadata": {},
   "source": [
    "Split the df so that no students from different country are in different "
   ]
  },
  {
   "cell_type": "code",
   "execution_count": 29,
   "id": "fcd8001a",
   "metadata": {},
   "outputs": [],
   "source": [
    "student_df = pd.read_csv('student_df.csv')"
   ]
  },
  {
   "cell_type": "code",
   "execution_count": 30,
   "id": "31a076e7",
   "metadata": {},
   "outputs": [],
   "source": [
    "students_test = pd.read_csv('students_test.csv')"
   ]
  },
  {
   "cell_type": "code",
   "execution_count": 38,
   "id": "c64700be",
   "metadata": {},
   "outputs": [],
   "source": [
    "st_df = students_test.sort_values('country')"
   ]
  },
  {
   "cell_type": "code",
   "execution_count": 39,
   "id": "4a2a978e",
   "metadata": {},
   "outputs": [
    {
     "data": {
      "text/html": [
       "<div>\n",
       "<style scoped>\n",
       "    .dataframe tbody tr th:only-of-type {\n",
       "        vertical-align: middle;\n",
       "    }\n",
       "\n",
       "    .dataframe tbody tr th {\n",
       "        vertical-align: top;\n",
       "    }\n",
       "\n",
       "    .dataframe thead th {\n",
       "        text-align: right;\n",
       "    }\n",
       "</style>\n",
       "<table border=\"1\" class=\"dataframe\">\n",
       "  <thead>\n",
       "    <tr style=\"text-align: right;\">\n",
       "      <th></th>\n",
       "      <th>student_id</th>\n",
       "      <th>student__first_name</th>\n",
       "      <th>country</th>\n",
       "      <th>age</th>\n",
       "      <th>has_rabbit</th>\n",
       "    </tr>\n",
       "  </thead>\n",
       "  <tbody>\n",
       "    <tr>\n",
       "      <th>852</th>\n",
       "      <td>853</td>\n",
       "      <td>Vicenta</td>\n",
       "      <td>Argentina</td>\n",
       "      <td>26</td>\n",
       "      <td>True</td>\n",
       "    </tr>\n",
       "    <tr>\n",
       "      <th>1755</th>\n",
       "      <td>1756</td>\n",
       "      <td>David</td>\n",
       "      <td>Argentina</td>\n",
       "      <td>19</td>\n",
       "      <td>True</td>\n",
       "    </tr>\n",
       "    <tr>\n",
       "      <th>2976</th>\n",
       "      <td>2977</td>\n",
       "      <td>Huan-Chan</td>\n",
       "      <td>Argentina</td>\n",
       "      <td>18</td>\n",
       "      <td>False</td>\n",
       "    </tr>\n",
       "    <tr>\n",
       "      <th>2979</th>\n",
       "      <td>2980</td>\n",
       "      <td>Miguel</td>\n",
       "      <td>Argentina</td>\n",
       "      <td>31</td>\n",
       "      <td>True</td>\n",
       "    </tr>\n",
       "    <tr>\n",
       "      <th>249</th>\n",
       "      <td>250</td>\n",
       "      <td>Bob</td>\n",
       "      <td>Argentina</td>\n",
       "      <td>31</td>\n",
       "      <td>True</td>\n",
       "    </tr>\n",
       "    <tr>\n",
       "      <th>...</th>\n",
       "      <td>...</td>\n",
       "      <td>...</td>\n",
       "      <td>...</td>\n",
       "      <td>...</td>\n",
       "      <td>...</td>\n",
       "    </tr>\n",
       "    <tr>\n",
       "      <th>1590</th>\n",
       "      <td>1591</td>\n",
       "      <td>Julia</td>\n",
       "      <td>USA</td>\n",
       "      <td>22</td>\n",
       "      <td>False</td>\n",
       "    </tr>\n",
       "    <tr>\n",
       "      <th>1603</th>\n",
       "      <td>1604</td>\n",
       "      <td>Frank</td>\n",
       "      <td>USA</td>\n",
       "      <td>33</td>\n",
       "      <td>False</td>\n",
       "    </tr>\n",
       "    <tr>\n",
       "      <th>1614</th>\n",
       "      <td>1615</td>\n",
       "      <td>Penelope</td>\n",
       "      <td>USA</td>\n",
       "      <td>18</td>\n",
       "      <td>True</td>\n",
       "    </tr>\n",
       "    <tr>\n",
       "      <th>1535</th>\n",
       "      <td>1536</td>\n",
       "      <td>Charlie</td>\n",
       "      <td>USA</td>\n",
       "      <td>25</td>\n",
       "      <td>False</td>\n",
       "    </tr>\n",
       "    <tr>\n",
       "      <th>2499</th>\n",
       "      <td>2500</td>\n",
       "      <td>Jonathan</td>\n",
       "      <td>USA</td>\n",
       "      <td>19</td>\n",
       "      <td>False</td>\n",
       "    </tr>\n",
       "  </tbody>\n",
       "</table>\n",
       "<p>5000 rows × 5 columns</p>\n",
       "</div>"
      ],
      "text/plain": [
       "      student_id student__first_name    country  age  has_rabbit\n",
       "852          853             Vicenta  Argentina   26        True\n",
       "1755        1756               David  Argentina   19        True\n",
       "2976        2977           Huan-Chan  Argentina   18       False\n",
       "2979        2980              Miguel  Argentina   31        True\n",
       "249          250                 Bob  Argentina   31        True\n",
       "...          ...                 ...        ...  ...         ...\n",
       "1590        1591               Julia        USA   22       False\n",
       "1603        1604               Frank        USA   33       False\n",
       "1614        1615            Penelope        USA   18        True\n",
       "1535        1536             Charlie        USA   25       False\n",
       "2499        2500            Jonathan        USA   19       False\n",
       "\n",
       "[5000 rows x 5 columns]"
      ]
     },
     "execution_count": 39,
     "metadata": {},
     "output_type": "execute_result"
    }
   ],
   "source": [
    "st_df"
   ]
  },
  {
   "cell_type": "code",
   "execution_count": 31,
   "id": "457cfd17",
   "metadata": {
    "scrolled": true
   },
   "outputs": [],
   "source": [
    "df = student_df.sort_values('country')"
   ]
  },
  {
   "cell_type": "code",
   "execution_count": 32,
   "id": "4ad6f18a",
   "metadata": {
    "scrolled": false
   },
   "outputs": [
    {
     "data": {
      "text/html": [
       "<div>\n",
       "<style scoped>\n",
       "    .dataframe tbody tr th:only-of-type {\n",
       "        vertical-align: middle;\n",
       "    }\n",
       "\n",
       "    .dataframe tbody tr th {\n",
       "        vertical-align: top;\n",
       "    }\n",
       "\n",
       "    .dataframe thead th {\n",
       "        text-align: right;\n",
       "    }\n",
       "</style>\n",
       "<table border=\"1\" class=\"dataframe\">\n",
       "  <thead>\n",
       "    <tr style=\"text-align: right;\">\n",
       "      <th></th>\n",
       "      <th>student_id</th>\n",
       "      <th>student__first_name</th>\n",
       "      <th>country</th>\n",
       "      <th>age</th>\n",
       "      <th>has_rabbit</th>\n",
       "    </tr>\n",
       "  </thead>\n",
       "  <tbody>\n",
       "    <tr>\n",
       "      <th>0</th>\n",
       "      <td>1</td>\n",
       "      <td>David</td>\n",
       "      <td>Argentina</td>\n",
       "      <td>24</td>\n",
       "      <td>True</td>\n",
       "    </tr>\n",
       "    <tr>\n",
       "      <th>579</th>\n",
       "      <td>580</td>\n",
       "      <td>Alice</td>\n",
       "      <td>Argentina</td>\n",
       "      <td>22</td>\n",
       "      <td>False</td>\n",
       "    </tr>\n",
       "    <tr>\n",
       "      <th>160</th>\n",
       "      <td>161</td>\n",
       "      <td>Grace</td>\n",
       "      <td>Argentina</td>\n",
       "      <td>23</td>\n",
       "      <td>True</td>\n",
       "    </tr>\n",
       "    <tr>\n",
       "      <th>163</th>\n",
       "      <td>164</td>\n",
       "      <td>Isaac</td>\n",
       "      <td>Argentina</td>\n",
       "      <td>21</td>\n",
       "      <td>True</td>\n",
       "    </tr>\n",
       "    <tr>\n",
       "      <th>944</th>\n",
       "      <td>945</td>\n",
       "      <td>Emma</td>\n",
       "      <td>Argentina</td>\n",
       "      <td>19</td>\n",
       "      <td>True</td>\n",
       "    </tr>\n",
       "    <tr>\n",
       "      <th>...</th>\n",
       "      <td>...</td>\n",
       "      <td>...</td>\n",
       "      <td>...</td>\n",
       "      <td>...</td>\n",
       "      <td>...</td>\n",
       "    </tr>\n",
       "    <tr>\n",
       "      <th>456</th>\n",
       "      <td>457</td>\n",
       "      <td>Julia</td>\n",
       "      <td>USA</td>\n",
       "      <td>25</td>\n",
       "      <td>True</td>\n",
       "    </tr>\n",
       "    <tr>\n",
       "      <th>453</th>\n",
       "      <td>454</td>\n",
       "      <td>Frank</td>\n",
       "      <td>USA</td>\n",
       "      <td>20</td>\n",
       "      <td>True</td>\n",
       "    </tr>\n",
       "    <tr>\n",
       "      <th>451</th>\n",
       "      <td>452</td>\n",
       "      <td>Emma</td>\n",
       "      <td>USA</td>\n",
       "      <td>18</td>\n",
       "      <td>True</td>\n",
       "    </tr>\n",
       "    <tr>\n",
       "      <th>485</th>\n",
       "      <td>486</td>\n",
       "      <td>David</td>\n",
       "      <td>USA</td>\n",
       "      <td>24</td>\n",
       "      <td>False</td>\n",
       "    </tr>\n",
       "    <tr>\n",
       "      <th>999</th>\n",
       "      <td>1000</td>\n",
       "      <td>Alice</td>\n",
       "      <td>USA</td>\n",
       "      <td>19</td>\n",
       "      <td>True</td>\n",
       "    </tr>\n",
       "  </tbody>\n",
       "</table>\n",
       "<p>1000 rows × 5 columns</p>\n",
       "</div>"
      ],
      "text/plain": [
       "     student_id student__first_name    country  age  has_rabbit\n",
       "0             1               David  Argentina   24        True\n",
       "579         580               Alice  Argentina   22       False\n",
       "160         161               Grace  Argentina   23        True\n",
       "163         164               Isaac  Argentina   21        True\n",
       "944         945                Emma  Argentina   19        True\n",
       "..          ...                 ...        ...  ...         ...\n",
       "456         457               Julia        USA   25        True\n",
       "453         454               Frank        USA   20        True\n",
       "451         452                Emma        USA   18        True\n",
       "485         486               David        USA   24       False\n",
       "999        1000               Alice        USA   19        True\n",
       "\n",
       "[1000 rows x 5 columns]"
      ]
     },
     "execution_count": 32,
     "metadata": {},
     "output_type": "execute_result"
    }
   ],
   "source": [
    "df"
   ]
  },
  {
   "cell_type": "code",
   "execution_count": 36,
   "id": "9db5c78d",
   "metadata": {},
   "outputs": [
    {
     "data": {
      "text/plain": [
       "500.0"
      ]
     },
     "execution_count": 36,
     "metadata": {},
     "output_type": "execute_result"
    }
   ],
   "source": [
    "mid_point = len(df)/2\n",
    "mid_point"
   ]
  },
  {
   "cell_type": "code",
   "execution_count": 37,
   "id": "33df95f9",
   "metadata": {},
   "outputs": [
    {
     "data": {
      "text/plain": [
       "'Canada'"
      ]
     },
     "execution_count": 37,
     "metadata": {},
     "output_type": "execute_result"
    }
   ],
   "source": [
    "df.loc[500, 'country']"
   ]
  },
  {
   "cell_type": "code",
   "execution_count": null,
   "id": "be71ad42",
   "metadata": {},
   "outputs": [],
   "source": []
  }
 ],
 "metadata": {
  "kernelspec": {
   "display_name": "Python 3 (ipykernel)",
   "language": "python",
   "name": "python3"
  },
  "language_info": {
   "codemirror_mode": {
    "name": "ipython",
    "version": 3
   },
   "file_extension": ".py",
   "mimetype": "text/x-python",
   "name": "python",
   "nbconvert_exporter": "python",
   "pygments_lexer": "ipython3",
   "version": "3.9.13"
  }
 },
 "nbformat": 4,
 "nbformat_minor": 5
}
