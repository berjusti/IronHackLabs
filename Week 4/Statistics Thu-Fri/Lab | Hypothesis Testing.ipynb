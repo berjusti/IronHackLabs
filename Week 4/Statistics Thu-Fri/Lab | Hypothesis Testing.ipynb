{
 "cells": [
  {
   "cell_type": "markdown",
   "id": "f204932d",
   "metadata": {},
   "source": [
    "1. It is assumed that the mean systolic blood pressure is `μ = 120 mm Hg`. In the Honolulu Heart Study, a sample of `n = 100` people had an average systolic blood pressure of 130.1 mm Hg with a standard deviation of 21.21 mm Hg. Is the group significantly different (with respect to systolic blood pressure!) from the regular population?\n",
    "\n",
    "    - Set up the hypothesis test.\n",
    "    - Write down all the steps followed for setting up the test.\n",
    "    - Calculate the test statistic by hand and also code it in Python. It should be 4.76190. What decision can you make based on this calculated value?"
   ]
  },
  {
   "cell_type": "markdown",
   "id": "982a1d1b",
   "metadata": {},
   "source": [
    "  # Set up the hypothesis test.\n",
    "  \n",
    "- One tailed hypothesis testing:\n",
    " \n",
    "The mean systolic blood pressure of the sample is not significantly higher than the mean systolic blood pressure of the population.\n",
    "   \n",
    "      H0: μ ≤ 120 mm Hg \n",
    "\n",
    "The mean systolic blood pressure of the sample is significantly higher than the mean systolic blood pressure of the population.\n",
    "\n",
    "      H1: μ ≠ 120 mm Hg\n",
    "        \n",
    "\n",
    "- Determine the Level of Significance\n",
    "\n",
    "The level of significance (alpha) is the probability of rejecting the null hypothesis when it is actually true. Typically, alpha is set to 0.05 or 0.01.\n",
    "For this exercise I am gonna assume:  significance level of 0.05.\n",
    "\n",
    "- Calculate the Test Statistic \n",
    "\n",
    "        n = 100, thus its z-tetst statistic\n",
    "        z = (x̄ - μ) / (σ / sqrt(n))\n",
    "where:\n",
    "\n",
    "         x̄ is the sample mean\n",
    "         μ is the population mean (under the null hypothesis)\n",
    "         σ is (given that the sample size is larger than 30) the sample standard deviation as            an estimate of the population standard deviation\n",
    "          n is the sample size\n",
    "\n",
    "hence:\n",
    "\n",
    "         z = (130.1 - 120) / (21.21 / sqrt(100))\n",
    "         z = 4.7619\n",
    "    \n",
    "- Determine the Critical Value \n",
    "\n",
    "The critical value is the value beyond which we reject the null hypothesis. The critical value depends on the level of significance.\n",
    "\n",
    "For this exercise, using a two-tailed test and a significance level of 0.05, the critical values are ±1.96.\n",
    "\n",
    "- Hypothesis Rejecting/ Accepting \n",
    "\n",
    "If the test statistic is greater than the critical value, we reject the null hypothesis. Otherwise, we fail to reject the null hypothesis.\n",
    "\n",
    "In this exercise, the test statistic (4.7619) is greater than the critical value (1.645). Therefore, we reject the null hypothesis.\n",
    "\n",
    "- What decision can you make based on this calculated value?\n",
    "\n",
    "Based on the calculated test statistic of 4.7619 and the critical value of 1.645 at a significance level of 0.05, we reject the null hypothesis. We can conclude that the mean systolic blood pressure of the sample is significantly higher than the mean systolic blood pressure of the population.\n",
    "\n",
    "\n"
   ]
  },
  {
   "cell_type": "code",
   "execution_count": 4,
   "id": "de481f95",
   "metadata": {},
   "outputs": [
    {
     "name": "stdout",
     "output_type": "stream",
     "text": [
      "Our z score is: 4.76\n"
     ]
    }
   ],
   "source": [
    "# in Python \n",
    "\n",
    "import numpy as np\n",
    "import pandas as pd\n",
    "import scipy.stats as stats\n",
    "import matplotlib.pyplot as plt\n",
    "import seaborn as sns\n",
    "\n",
    "%matplotlib inline\n",
    "\n",
    "sample_size = 100 \n",
    "sample_mean = 130.1  \n",
    "pop_mean = 120  # population mean under null hypothesis\n",
    "std_dev = 21.21  # sample standard deviation\n",
    "\n",
    "z = ( sample_mean - pop_mean ) / ( std_dev / np.sqrt(100) )\n",
    "print(\"Our z score is: {:.2f}\".format(z))"
   ]
  },
  {
   "cell_type": "code",
   "execution_count": null,
   "id": "8655cd88",
   "metadata": {},
   "outputs": [],
   "source": []
  }
 ],
 "metadata": {
  "kernelspec": {
   "display_name": "Python 3 (ipykernel)",
   "language": "python",
   "name": "python3"
  },
  "language_info": {
   "codemirror_mode": {
    "name": "ipython",
    "version": 3
   },
   "file_extension": ".py",
   "mimetype": "text/x-python",
   "name": "python",
   "nbconvert_exporter": "python",
   "pygments_lexer": "ipython3",
   "version": "3.9.13"
  }
 },
 "nbformat": 4,
 "nbformat_minor": 5
}
